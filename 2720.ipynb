{
 "cells": [
  {
   "cell_type": "code",
   "execution_count": 5,
   "id": "b72f8e73",
   "metadata": {
    "scrolled": true
   },
   "outputs": [
    {
     "name": "stdout",
     "output_type": "stream",
     "text": [
      "3\n",
      "124\n",
      "4 2 -3 17\n",
      "25\n",
      "1 0 0 0\n",
      "194\n",
      "7 1 0 1\n"
     ]
    }
   ],
   "source": [
    "T = int(input())\n",
    "\n",
    "for i in range(T):\n",
    "    C = int(input())\n",
    "    Q = int(C/25)\n",
    "    D = int((C-Q*25)/10)\n",
    "    N = int((C-D*10)/5)\n",
    "    P = D-N*5\n",
    "    print(str(Q)+' '+str(D)+' '+str(N)+' '+str(P))"
   ]
  },
  {
   "cell_type": "code",
   "execution_count": null,
   "id": "ab00d5f1",
   "metadata": {},
   "outputs": [],
   "source": []
  }
 ],
 "metadata": {
  "kernelspec": {
   "display_name": "Python 3 (ipykernel)",
   "language": "python",
   "name": "python3"
  },
  "language_info": {
   "codemirror_mode": {
    "name": "ipython",
    "version": 3
   },
   "file_extension": ".py",
   "mimetype": "text/x-python",
   "name": "python",
   "nbconvert_exporter": "python",
   "pygments_lexer": "ipython3",
   "version": "3.9.5"
  }
 },
 "nbformat": 4,
 "nbformat_minor": 5
}
