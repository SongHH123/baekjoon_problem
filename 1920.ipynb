{
 "cells": [
  {
   "cell_type": "code",
   "execution_count": 21,
   "id": "13a2492b",
   "metadata": {},
   "outputs": [
    {
     "name": "stdout",
     "output_type": "stream",
     "text": [
      "5\n",
      "4 1 5 2 3\n",
      "5\n",
      "1 3 7 9 5\n",
      "1\n",
      "1\n",
      "0\n",
      "0\n",
      "1\n"
     ]
    }
   ],
   "source": [
    "N = int(input())\n",
    "Ns = list(map(int,input().split()))\n",
    "Ns.sort()\n",
    "input()\n",
    "Ms = list(map(int,input().split()))\n",
    "\n",
    "for m in Ms:\n",
    "    s = 0\n",
    "    e = N -1\n",
    "    exist = False\n",
    "    \n",
    "    while(s<=e):\n",
    "        mid = int((s+e)/2)\n",
    "        if(m == Ns[mid]):\n",
    "            exist = True\n",
    "            break\n",
    "        elif(m>Ns[mid]):\n",
    "            s = mid+1\n",
    "        else:\n",
    "            e = mid -1\n",
    "    print(int(exist))"
   ]
  }
 ],
 "metadata": {
  "kernelspec": {
   "display_name": "Python 3 (ipykernel)",
   "language": "python",
   "name": "python3"
  },
  "language_info": {
   "codemirror_mode": {
    "name": "ipython",
    "version": 3
   },
   "file_extension": ".py",
   "mimetype": "text/x-python",
   "name": "python",
   "nbconvert_exporter": "python",
   "pygments_lexer": "ipython3",
   "version": "3.9.5"
  }
 },
 "nbformat": 4,
 "nbformat_minor": 5
}
