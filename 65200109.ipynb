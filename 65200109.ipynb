{
 "cells": [
  {
   "cell_type": "code",
   "execution_count": 51,
   "id": "b4f500ce",
   "metadata": {},
   "outputs": [
    {
     "name": "stdout",
     "output_type": "stream",
     "text": [
      "FFFFFFFF\n",
      "FFFFFFFF\n",
      "FFFFFFFF\n",
      "FFFFFFFF\n",
      "FFFFFFFF\n",
      "FFFFFFFF\n",
      "FFFFFFFF\n",
      "FFFFFFFF\n"
     ]
    },
    {
     "ename": "NameError",
     "evalue": "name 'C_0' is not defined",
     "output_type": "error",
     "traceback": [
      "\u001b[1;31m---------------------------------------------------------------------------\u001b[0m",
      "\u001b[1;31mNameError\u001b[0m                                 Traceback (most recent call last)",
      "Cell \u001b[1;32mIn[51], line 8\u001b[0m\n\u001b[0;32m      6\u001b[0m     \u001b[38;5;28;01melse\u001b[39;00m:\n\u001b[0;32m      7\u001b[0m         C \u001b[38;5;241m+\u001b[39m\u001b[38;5;241m=\u001b[39m \u001b[38;5;28minput\u001b[39m()\n\u001b[1;32m----> 8\u001b[0m \u001b[38;5;28mprint\u001b[39m(C[\u001b[38;5;241m0\u001b[39m::\u001b[38;5;241m2\u001b[39m]\u001b[38;5;241m.\u001b[39mcount(\u001b[38;5;124m'\u001b[39m\u001b[38;5;124mF\u001b[39m\u001b[38;5;124m'\u001b[39m) \u001b[38;5;241m+\u001b[39m \u001b[43mC_0\u001b[49m[\u001b[38;5;241m1\u001b[39m::\u001b[38;5;241m2\u001b[39m]\u001b[38;5;241m.\u001b[39mcount(\u001b[38;5;124m'\u001b[39m\u001b[38;5;124mF\u001b[39m\u001b[38;5;124m'\u001b[39m))\n",
      "\u001b[1;31mNameError\u001b[0m: name 'C_0' is not defined"
     ]
    }
   ],
   "source": [
    "C = ''\n",
    "C_1=''\n",
    "for i in range(8):\n",
    "    if(i%2==1):\n",
    "        C_1+=input()\n",
    "    else:\n",
    "        C += input()\n",
    "print(C[0::2].count('F') + C_0[1::2].count('F'))"
   ]
  },
  {
   "cell_type": "code",
   "execution_count": 50,
   "id": "d9e04cc4",
   "metadata": {},
   "outputs": [
    {
     "data": {
      "text/plain": [
       "'....'"
      ]
     },
     "execution_count": 50,
     "metadata": {},
     "output_type": "execute_result"
    }
   ],
   "source": [
    "C[0::2]"
   ]
  },
  {
   "cell_type": "code",
   "execution_count": 32,
   "id": "808989c8",
   "metadata": {
    "scrolled": true
   },
   "outputs": [
    {
     "data": {
      "text/plain": [
       "['1', '3', '5', '7', '9', '2', '4', '6', '8', '1', '3', '5']"
      ]
     },
     "execution_count": 32,
     "metadata": {},
     "output_type": "execute_result"
    }
   ],
   "source": [
    "C[0::2]"
   ]
  },
  {
   "cell_type": "code",
   "execution_count": null,
   "id": "925bb8d2",
   "metadata": {},
   "outputs": [],
   "source": []
  }
 ],
 "metadata": {
  "kernelspec": {
   "display_name": "Python 3 (ipykernel)",
   "language": "python",
   "name": "python3"
  },
  "language_info": {
   "codemirror_mode": {
    "name": "ipython",
    "version": 3
   },
   "file_extension": ".py",
   "mimetype": "text/x-python",
   "name": "python",
   "nbconvert_exporter": "python",
   "pygments_lexer": "ipython3",
   "version": "3.9.5"
  }
 },
 "nbformat": 4,
 "nbformat_minor": 5
}
