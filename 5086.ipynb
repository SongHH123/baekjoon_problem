{
 "cells": [
  {
   "cell_type": "code",
   "execution_count": 6,
   "id": "658434f6",
   "metadata": {
    "scrolled": false
   },
   "outputs": [
    {
     "name": "stdout",
     "output_type": "stream",
     "text": [
      "8 16\n",
      "factor\n",
      "32 4\n",
      "multiple\n",
      "17 5\n",
      "neither\n",
      "0 0\n"
     ]
    }
   ],
   "source": [
    "#배수와_약수\n",
    "while True:\n",
    "    N, M= map(int, input().split(' '))\n",
    "    if(N==0 and M==0):\n",
    "        break\n",
    "    if(N%M==0):\n",
    "        print('multiple')\n",
    "    elif(M%N==0):\n",
    "        print('factor')\n",
    "    else:\n",
    "        print('neither')"
   ]
  },
  {
   "cell_type": "code",
   "execution_count": null,
   "id": "4ab72eea",
   "metadata": {},
   "outputs": [],
   "source": []
  }
 ],
 "metadata": {
  "kernelspec": {
   "display_name": "Python 3 (ipykernel)",
   "language": "python",
   "name": "python3"
  },
  "language_info": {
   "codemirror_mode": {
    "name": "ipython",
    "version": 3
   },
   "file_extension": ".py",
   "mimetype": "text/x-python",
   "name": "python",
   "nbconvert_exporter": "python",
   "pygments_lexer": "ipython3",
   "version": "3.7.9"
  }
 },
 "nbformat": 4,
 "nbformat_minor": 5
}
