{
 "cells": [
  {
   "cell_type": "code",
   "execution_count": 8,
   "id": "7d46b716",
   "metadata": {},
   "outputs": [
    {
     "name": "stdout",
     "output_type": "stream",
     "text": [
      "3\n",
      "3 7\n",
      "15 7\n",
      "5 2\n",
      "260\n"
     ]
    }
   ],
   "source": [
    "paper =[[0]*101 for i in range(101)]\n",
    "area = 0\n",
    "num = int(input())\n",
    "for n in range(num):\n",
    "    a,b = map(int,input().split())\n",
    "    for i in range(10):\n",
    "        for j in range(10):\n",
    "            paper[a+i][b+j] = 1\n",
    "for i in paper:\n",
    "    area += sum(i)\n",
    "print(area)"
   ]
  }
 ],
 "metadata": {
  "kernelspec": {
   "display_name": "Python 3 (ipykernel)",
   "language": "python",
   "name": "python3"
  },
  "language_info": {
   "codemirror_mode": {
    "name": "ipython",
    "version": 3
   },
   "file_extension": ".py",
   "mimetype": "text/x-python",
   "name": "python",
   "nbconvert_exporter": "python",
   "pygments_lexer": "ipython3",
   "version": "3.9.5"
  }
 },
 "nbformat": 4,
 "nbformat_minor": 5
}
