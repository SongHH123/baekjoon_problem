{
 "cells": [
  {
   "cell_type": "code",
   "execution_count": 115,
   "id": "658434f6",
   "metadata": {
    "scrolled": true
   },
   "outputs": [
    {
     "name": "stdout",
     "output_type": "stream",
     "text": [
      "5 4\n",
      "1 2\n",
      "3 4\n",
      "1 4\n",
      "2 2\n",
      "3 4 1 2 5 "
     ]
    }
   ],
   "source": [
    "N = input()\n",
    "T = input().split(' ')\n",
    "T = list(map(int, T))\n",
    "\n",
    "print"
   ]
  }
 ],
 "metadata": {
  "kernelspec": {
   "display_name": "Python 3 (ipykernel)",
   "language": "python",
   "name": "python3"
  },
  "language_info": {
   "codemirror_mode": {
    "name": "ipython",
    "version": 3
   },
   "file_extension": ".py",
   "mimetype": "text/x-python",
   "name": "python",
   "nbconvert_exporter": "python",
   "pygments_lexer": "ipython3",
   "version": "3.7.9"
  }
 },
 "nbformat": 4,
 "nbformat_minor": 5
}
