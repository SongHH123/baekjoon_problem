{
 "cells": [
  {
   "cell_type": "code",
   "execution_count": 10,
   "id": "658434f6",
   "metadata": {
    "scrolled": true
   },
   "outputs": [
    {
     "name": "stdout",
     "output_type": "stream",
     "text": [
      "ObjectOrientedProgramming1 3.0 A+\n",
      "IntroductiontoComputerEngineering 3.0 A+\n",
      "ObjectOrientedProgramming2 3.0 A0\n",
      "CreativeComputerEngineeringDesign 3.0 A+\n",
      "AssemblyLanguage 3.0 A+\n",
      "InternetProgramming 3.0 B0\n",
      "ApplicationProgramminginJava 3.0 A0\n",
      "SystemProgramming 3.0 B0\n",
      "OperatingSystem 3.0 B0\n",
      "WirelessCommunicationsandNetworking 3.0 C+\n",
      "LogicCircuits 3.0 B0\n",
      "DataStructure 4.0 A+\n",
      "MicroprocessorApplication 3.0 B+\n",
      "EmbeddedSoftware 3.0 C0\n",
      "ComputerSecurity 3.0 D+\n",
      "Database 3.0 C+\n",
      "Algorithm 3.0 B0\n",
      "CapstoneDesigninCSE 3.0 B+\n",
      "CompilerDesign 3.0 D0\n",
      "ProblemSolving 4.0 P\n",
      "3.284483\n"
     ]
    }
   ],
   "source": [
    "#너의 평점은\n",
    "projects=[0.0,0.0]\n",
    "for i in range(20):\n",
    "    project= input().split(' ')\n",
    "    if(project[2]=='P'):\n",
    "        project[1] = 0.0\n",
    "        project[2] = 0.0\n",
    "    project[1] = float(project[1])\n",
    "    if(project[2] ==\"A+\"): \n",
    "        project[2]=4.5\n",
    "    if(project[2] ==\"A0\"): \n",
    "        project[2]=4.0\n",
    "    if(project[2] ==\"B+\"): \n",
    "        project[2]=3.5\n",
    "    if(project[2] ==\"B0\"): \n",
    "        project[2]=3.0\n",
    "    if(project[2] ==\"C+\"): \n",
    "        project[2]=2.5\n",
    "    if(project[2] ==\"C0\"): \n",
    "        project[2]=2.0\n",
    "    if(project[2] ==\"D+\"): \n",
    "        project[2]=1.5\n",
    "    if(project[2] ==\"D0\"): \n",
    "        project[2]=1.0\n",
    "    if(project[2] ==\"F\"): \n",
    "        project[2]=0.0\n",
    "\n",
    "    projects[0]+=project[1]\n",
    "    projects[1]+=project[2]*project[1]\n",
    "\n",
    "print(format((projects[1]/projects[0]),\".6f\"))"
   ]
  }
 ],
 "metadata": {
  "kernelspec": {
   "display_name": "Python 3 (ipykernel)",
   "language": "python",
   "name": "python3"
  },
  "language_info": {
   "codemirror_mode": {
    "name": "ipython",
    "version": 3
   },
   "file_extension": ".py",
   "mimetype": "text/x-python",
   "name": "python",
   "nbconvert_exporter": "python",
   "pygments_lexer": "ipython3",
   "version": "3.7.9"
  }
 },
 "nbformat": 4,
 "nbformat_minor": 5
}
