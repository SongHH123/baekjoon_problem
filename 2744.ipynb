{
 "cells": [
  {
   "cell_type": "code",
   "execution_count": 49,
   "id": "b4f500ce",
   "metadata": {
    "scrolled": false
   },
   "outputs": [
    {
     "name": "stdout",
     "output_type": "stream",
     "text": [
      "WrongAnswer\n",
      "wRONGaNSWER"
     ]
    }
   ],
   "source": [
    "a = input()\n",
    "U = a.upper()\n",
    "L = a.lower()\n",
    "for i in range(len(a)):\n",
    "    if(a[i]==U[i]):\n",
    "        print(L[i], end='')\n",
    "    else:\n",
    "        print(U[i], end='')"
   ]
  }
 ],
 "metadata": {
  "kernelspec": {
   "display_name": "Python 3 (ipykernel)",
   "language": "python",
   "name": "python3"
  },
  "language_info": {
   "codemirror_mode": {
    "name": "ipython",
    "version": 3
   },
   "file_extension": ".py",
   "mimetype": "text/x-python",
   "name": "python",
   "nbconvert_exporter": "python",
   "pygments_lexer": "ipython3",
   "version": "3.9.5"
  }
 },
 "nbformat": 4,
 "nbformat_minor": 5
}
