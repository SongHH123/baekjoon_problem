{
 "cells": [
  {
   "cell_type": "code",
   "execution_count": 32,
   "id": "b4f500ce",
   "metadata": {},
   "outputs": [
    {
     "name": "stdout",
     "output_type": "stream",
     "text": [
      "12:34:56\n",
      "14:36:22\n",
      "02:01:26\n"
     ]
    }
   ],
   "source": [
    "E=list(map(int, input().split(\":\")))\n",
    "S=list(map(int, input().split(\":\")))\n",
    "a=[]\n",
    "\n",
    "T = (S[0]-E[0])*3600+(S[1]-E[1])*60+S[2]-E[2]\n",
    "if(T==0 or T==86400):\n",
    "    print(\"24:00:00\")\n",
    "else:\n",
    "    if(T<0):\n",
    "        T+=86400\n",
    "    a.append(int(T/3600))\n",
    "    T=T-a[0]*3600\n",
    "    a.append(int(T/60))\n",
    "    T=T-(a[1]*60)\n",
    "    print(str(a[0]).zfill(2)+\":\"+str(a[1]).zfill(2)+\":\"+str(T).zfill(2))"
   ]
  },
  {
   "cell_type": "code",
   "execution_count": 31,
   "id": "f3536eeb",
   "metadata": {},
   "outputs": [
    {
     "data": {
      "text/plain": [
       "86"
      ]
     },
     "execution_count": 31,
     "metadata": {},
     "output_type": "execute_result"
    }
   ],
   "source": [
    "T"
   ]
  },
  {
   "cell_type": "code",
   "execution_count": null,
   "id": "aa39e699",
   "metadata": {},
   "outputs": [],
   "source": []
  }
 ],
 "metadata": {
  "kernelspec": {
   "display_name": "Python 3 (ipykernel)",
   "language": "python",
   "name": "python3"
  },
  "language_info": {
   "codemirror_mode": {
    "name": "ipython",
    "version": 3
   },
   "file_extension": ".py",
   "mimetype": "text/x-python",
   "name": "python",
   "nbconvert_exporter": "python",
   "pygments_lexer": "ipython3",
   "version": "3.9.5"
  }
 },
 "nbformat": 4,
 "nbformat_minor": 5
}
