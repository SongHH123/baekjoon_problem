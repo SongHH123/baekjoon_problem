{
 "cells": [
  {
   "cell_type": "code",
   "execution_count": 89,
   "id": "b4f500ce",
   "metadata": {
    "scrolled": false
   },
   "outputs": [
    {
     "name": "stdout",
     "output_type": "stream",
     "text": [
      "([)]).\n",
      "no\n",
      ".\n"
     ]
    }
   ],
   "source": [
    "s=input()\n",
    "while(1):\n",
    "    b=[]\n",
    "    while(s[-1] != '.'):\n",
    "        S = input()\n",
    "        s = s+S\n",
    "    if(s=='.'):\n",
    "        break\n",
    "\n",
    "    for i in s:\n",
    "        if(i=='(' or i=='['):\n",
    "            b.append(i)\n",
    "        elif(i==']'):\n",
    "            if(len(b)==0 or b[-1]=='('):\n",
    "                print('no')\n",
    "                break\n",
    "            b.pop()\n",
    "        elif(i==')'):\n",
    "            if(len(b)==0 or b[-1]=='['):\n",
    "                print('no')\n",
    "                break\n",
    "            b.pop()\n",
    "        elif(i=='.' and len(b)==0):\n",
    "            print('yes')\n",
    "        elif(i=='.' and len(b)!=0):\n",
    "            print('no')\n",
    "    s=input()"
   ]
  }
 ],
 "metadata": {
  "kernelspec": {
   "display_name": "Python 3 (ipykernel)",
   "language": "python",
   "name": "python3"
  },
  "language_info": {
   "codemirror_mode": {
    "name": "ipython",
    "version": 3
   },
   "file_extension": ".py",
   "mimetype": "text/x-python",
   "name": "python",
   "nbconvert_exporter": "python",
   "pygments_lexer": "ipython3",
   "version": "3.9.5"
  }
 },
 "nbformat": 4,
 "nbformat_minor": 5
}
