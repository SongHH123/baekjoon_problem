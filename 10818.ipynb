{
 "cells": [
  {
   "cell_type": "code",
   "execution_count": null,
   "id": "658434f6",
   "metadata": {
    "scrolled": false
   },
   "outputs": [],
   "source": [
    "N = input()\n",
    "Arr = input().split(' ')\n",
    "for i in range(int(N)):\n",
    "    Arr[i] = int(Arr[i])\n",
    "print(min(Arr) ,max(Arr))"
   ]
  },
  {
   "cell_type": "code",
   "execution_count": null,
   "id": "d02ff977",
   "metadata": {},
   "outputs": [],
   "source": []
  }
 ],
 "metadata": {
  "kernelspec": {
   "display_name": "Python 3 (ipykernel)",
   "language": "python",
   "name": "python3"
  },
  "language_info": {
   "codemirror_mode": {
    "name": "ipython",
    "version": 3
   },
   "file_extension": ".py",
   "mimetype": "text/x-python",
   "name": "python",
   "nbconvert_exporter": "python",
   "pygments_lexer": "ipython3",
   "version": "3.7.9"
  }
 },
 "nbformat": 4,
 "nbformat_minor": 5
}
