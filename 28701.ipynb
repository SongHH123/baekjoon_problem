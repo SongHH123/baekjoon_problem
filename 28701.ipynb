{
 "cells": [
  {
   "cell_type": "code",
   "execution_count": 11,
   "id": "b4f500ce",
   "metadata": {},
   "outputs": [
    {
     "name": "stdout",
     "output_type": "stream",
     "text": [
      "100\n",
      "5050\n",
      "25502500\n",
      "25502500\n"
     ]
    }
   ],
   "source": [
    "N = int(input())\n",
    "S = 0\n",
    "SQ=0\n",
    "for i in range(1, N+1):\n",
    "    S += i\n",
    "    SQ = SQ + i**3\n",
    "    \n",
    "print(S)\n",
    "print(S**2)\n",
    "print(SQ)"
   ]
  }
 ],
 "metadata": {
  "kernelspec": {
   "display_name": "Python 3 (ipykernel)",
   "language": "python",
   "name": "python3"
  },
  "language_info": {
   "codemirror_mode": {
    "name": "ipython",
    "version": 3
   },
   "file_extension": ".py",
   "mimetype": "text/x-python",
   "name": "python",
   "nbconvert_exporter": "python",
   "pygments_lexer": "ipython3",
   "version": "3.9.5"
  }
 },
 "nbformat": 4,
 "nbformat_minor": 5
}
