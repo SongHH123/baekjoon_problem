{
 "cells": [
  {
   "cell_type": "code",
   "execution_count": 72,
   "id": "b4f500ce",
   "metadata": {
    "scrolled": true
   },
   "outputs": [
    {
     "name": "stdout",
     "output_type": "stream",
     "text": [
      "14 0 0\n",
      "367890\n",
      "20 11 30\n"
     ]
    }
   ],
   "source": [
    "A, B, C = map(int, input().split())\n",
    "s = int(input())\n",
    "h = s//3600\n",
    "s%=3600\n",
    "m = s//60\n",
    "s%=60\n",
    "A+=h\n",
    "B+=m\n",
    "C+=s\n",
    "\n",
    "if(C>59):\n",
    "    B+=1\n",
    "    C-=60\n",
    "if(B>59):\n",
    "    A+=1\n",
    "    B-=60\n",
    "if(A>23):\n",
    "    A%=24\n",
    "    \n",
    "print(A, B, C)"
   ]
  }
 ],
 "metadata": {
  "kernelspec": {
   "display_name": "Python 3 (ipykernel)",
   "language": "python",
   "name": "python3"
  },
  "language_info": {
   "codemirror_mode": {
    "name": "ipython",
    "version": 3
   },
   "file_extension": ".py",
   "mimetype": "text/x-python",
   "name": "python",
   "nbconvert_exporter": "python",
   "pygments_lexer": "ipython3",
   "version": "3.9.5"
  }
 },
 "nbformat": 4,
 "nbformat_minor": 5
}
