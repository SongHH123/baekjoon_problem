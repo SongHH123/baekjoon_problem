{
 "cells": [
  {
   "cell_type": "code",
   "execution_count": 11,
   "id": "658434f6",
   "metadata": {
    "scrolled": false
   },
   "outputs": [
    {
     "name": "stdout",
     "output_type": "stream",
     "text": [
      "Hello\n",
      "Baekjoon\n",
      "Online Judge\n",
      "\n",
      "Hello\n",
      "Baekjoon\n",
      "Online Judge\n"
     ]
    }
   ],
   "source": [
    "Text = []\n",
    "while True:\n",
    "    try:\n",
    "        A = input()\n",
    "        if(A==''):\n",
    "            for i in range(len(Text)):\n",
    "                print(Text[i], sep='\\n')\n",
    "            break\n",
    "        else:\n",
    "            Text.append(A)\n",
    "    except:\n",
    "        for i in range(len(Text)):\n",
    "            print(Text[i], sep='\\n')\n",
    "        break"
   ]
  }
 ],
 "metadata": {
  "kernelspec": {
   "display_name": "Python 3 (ipykernel)",
   "language": "python",
   "name": "python3"
  },
  "language_info": {
   "codemirror_mode": {
    "name": "ipython",
    "version": 3
   },
   "file_extension": ".py",
   "mimetype": "text/x-python",
   "name": "python",
   "nbconvert_exporter": "python",
   "pygments_lexer": "ipython3",
   "version": "3.7.9"
  }
 },
 "nbformat": 4,
 "nbformat_minor": 5
}
