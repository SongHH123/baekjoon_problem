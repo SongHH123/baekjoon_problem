{
 "cells": [
  {
   "cell_type": "code",
   "execution_count": 16,
   "id": "b4f500ce",
   "metadata": {
    "scrolled": false
   },
   "outputs": [
    {
     "name": "stdout",
     "output_type": "stream",
     "text": [
      "How are you today?\n",
      "7\n",
      "I live at number twenty four.\n",
      "9\n",
      "#\n"
     ]
    }
   ],
   "source": [
    "s = input().lower()\n",
    "while (s!='#'):\n",
    "    g=0\n",
    "    g += s.count('a')\n",
    "    g += s.count('e')\n",
    "    g += s.count('i')\n",
    "    g += s.count('o')\n",
    "    g += s.count('u')\n",
    "    print(g)\n",
    "    s = input().lower()"
   ]
  }
 ],
 "metadata": {
  "kernelspec": {
   "display_name": "Python 3 (ipykernel)",
   "language": "python",
   "name": "python3"
  },
  "language_info": {
   "codemirror_mode": {
    "name": "ipython",
    "version": 3
   },
   "file_extension": ".py",
   "mimetype": "text/x-python",
   "name": "python",
   "nbconvert_exporter": "python",
   "pygments_lexer": "ipython3",
   "version": "3.9.5"
  }
 },
 "nbformat": 4,
 "nbformat_minor": 5
}
