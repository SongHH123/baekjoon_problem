{
 "cells": [
  {
   "cell_type": "code",
   "execution_count": 30,
   "id": "b14ff257",
   "metadata": {},
   "outputs": [
    {
     "name": "stdout",
     "output_type": "stream",
     "text": [
      "9\n",
      "3\n"
     ]
    }
   ],
   "source": [
    "N=int(input())\n",
    "A = int(N/5)\n",
    "while(A>=0):\n",
    "    if((N-A*5)%3==0):\n",
    "        print(A+int((N-A*5)/3))\n",
    "        break\n",
    "    else:\n",
    "        A-=1\n",
    "if(A<0):\n",
    "    print(-1)"
   ]
  }
 ],
 "metadata": {
  "kernelspec": {
   "display_name": "Python 3 (ipykernel)",
   "language": "python",
   "name": "python3"
  },
  "language_info": {
   "codemirror_mode": {
    "name": "ipython",
    "version": 3
   },
   "file_extension": ".py",
   "mimetype": "text/x-python",
   "name": "python",
   "nbconvert_exporter": "python",
   "pygments_lexer": "ipython3",
   "version": "3.9.5"
  }
 },
 "nbformat": 4,
 "nbformat_minor": 5
}
