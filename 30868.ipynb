{
 "cells": [
  {
   "cell_type": "code",
   "execution_count": 5,
   "id": "409a33a1",
   "metadata": {},
   "outputs": [
    {
     "name": "stdout",
     "output_type": "stream",
     "text": [
      "3\n",
      "12\n",
      "++++ ++++ ||\n",
      "1\n",
      "|\n",
      "5\n",
      "++++ \n"
     ]
    }
   ],
   "source": [
    "for _ in range(int(input())):\n",
    "    n = int(input())\n",
    "    for i in range(n//5):\n",
    "        print(\"++++ \", end='')\n",
    "    for i in range(n%5):\n",
    "        print(\"|\", end='')\n",
    "    print()"
   ]
  }
 ],
 "metadata": {
  "kernelspec": {
   "display_name": "Python 3 (ipykernel)",
   "language": "python",
   "name": "python3"
  },
  "language_info": {
   "codemirror_mode": {
    "name": "ipython",
    "version": 3
   },
   "file_extension": ".py",
   "mimetype": "text/x-python",
   "name": "python",
   "nbconvert_exporter": "python",
   "pygments_lexer": "ipython3",
   "version": "3.9.5"
  }
 },
 "nbformat": 4,
 "nbformat_minor": 5
}
