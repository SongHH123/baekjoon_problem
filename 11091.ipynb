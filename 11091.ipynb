{
 "cells": [
  {
   "cell_type": "code",
   "execution_count": 37,
   "id": "b4f500ce",
   "metadata": {
    "scrolled": true
   },
   "outputs": [
    {
     "name": "stdout",
     "output_type": "stream",
     "text": [
      "3\n",
      ".,?!'\" 92384 abcde FGHIJ\n",
      "missing klmnopqrstuvwxyz\n",
      "ZYXW, vu TSR Ponm lkj ihgfd CBA.\n",
      "missing eq\n",
      "The quick brown fox jumps over the lazy dog.\n",
      "pangram\n"
     ]
    }
   ],
   "source": [
    "for _ in range(int(input())):\n",
    "    a=['a','b','c','d','e','f','g','h','i','j','k','l','m','n','o','p','q','r','s','t','u','v','w','x','y','z']\n",
    "    s = list(map(str.lower, input().split()))\n",
    "    for i in s:\n",
    "        for j in i:\n",
    "            try:\n",
    "                a.remove(j)\n",
    "            except:\n",
    "                pass\n",
    "    if(len(a)):\n",
    "        print('missing', end=' ')\n",
    "        for i in a:\n",
    "            print(i, end='')\n",
    "        print()\n",
    "    else:\n",
    "        print('pangram')"
   ]
  }
 ],
 "metadata": {
  "kernelspec": {
   "display_name": "Python 3 (ipykernel)",
   "language": "python",
   "name": "python3"
  },
  "language_info": {
   "codemirror_mode": {
    "name": "ipython",
    "version": 3
   },
   "file_extension": ".py",
   "mimetype": "text/x-python",
   "name": "python",
   "nbconvert_exporter": "python",
   "pygments_lexer": "ipython3",
   "version": "3.9.5"
  }
 },
 "nbformat": 4,
 "nbformat_minor": 5
}
