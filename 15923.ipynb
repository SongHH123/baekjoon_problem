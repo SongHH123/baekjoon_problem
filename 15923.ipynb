{
 "cells": [
  {
   "cell_type": "code",
   "execution_count": 21,
   "id": "b4f500ce",
   "metadata": {},
   "outputs": [
    {
     "name": "stdout",
     "output_type": "stream",
     "text": [
      "4\n",
      "10 10\n",
      "10 40\n",
      "40 40\n",
      "40 10\n",
      "120\n"
     ]
    }
   ],
   "source": [
    "X = []\n",
    "Y=[]\n",
    "for _ in range(int(input())):\n",
    "    x, y = map(int, input().split())\n",
    "    X.append(x)\n",
    "    Y.append(y)\n",
    "    \n",
    "print(2*(max(X)-min(X)+max(Y)-min(Y)))"
   ]
  }
 ],
 "metadata": {
  "kernelspec": {
   "display_name": "Python 3 (ipykernel)",
   "language": "python",
   "name": "python3"
  },
  "language_info": {
   "codemirror_mode": {
    "name": "ipython",
    "version": 3
   },
   "file_extension": ".py",
   "mimetype": "text/x-python",
   "name": "python",
   "nbconvert_exporter": "python",
   "pygments_lexer": "ipython3",
   "version": "3.9.5"
  }
 },
 "nbformat": 4,
 "nbformat_minor": 5
}
