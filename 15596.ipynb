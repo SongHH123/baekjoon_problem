{
 "cells": [
  {
   "cell_type": "code",
   "execution_count": 8,
   "id": "c025191d",
   "metadata": {},
   "outputs": [],
   "source": [
    "def solve(a): \n",
    "    return sum(a)"
   ]
  }
 ],
 "metadata": {
  "kernelspec": {
   "display_name": "Python 3 (ipykernel)",
   "language": "python",
   "name": "python3"
  },
  "language_info": {
   "codemirror_mode": {
    "name": "ipython",
    "version": 3
   },
   "file_extension": ".py",
   "mimetype": "text/x-python",
   "name": "python",
   "nbconvert_exporter": "python",
   "pygments_lexer": "ipython3",
   "version": "3.9.5"
  }
 },
 "nbformat": 4,
 "nbformat_minor": 5
}
