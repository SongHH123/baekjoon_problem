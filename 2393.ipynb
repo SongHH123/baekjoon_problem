{
 "cells": [
  {
   "cell_type": "code",
   "execution_count": 39,
   "id": "b4f500ce",
   "metadata": {
    "scrolled": false
   },
   "outputs": [
    {
     "name": "stdout",
     "output_type": "stream",
     "text": [
      "  ___  ___  ___\n",
      "  | |__| |__| |\n",
      "  |           |\n",
      "   \\_________/\n",
      "    \\_______/\n",
      "     |     |\n",
      "     |     |\n",
      "     |     |\n",
      "     |     |\n",
      "     |_____|\n",
      "  __/       \\__\n",
      " /             \\\n",
      "/_______________\\\n"
     ]
    }
   ],
   "source": [
    "print(\"  ___  ___  ___\")\n",
    "print(\"  | |__| |__| |\")\n",
    "print(\"  |           |\")\n",
    "print(\"   \\\\_________/\")\n",
    "print(\"    \\\\_______/\")\n",
    "print(\"     |     |\")\n",
    "print(\"     |     |\")\n",
    "print(\"     |     |\")\n",
    "print(\"     |     |\")\n",
    "print(\"     |_____|\")\n",
    "print(\"  __/       \\\\__\")\n",
    "print(\" /             \\\\\")\n",
    "print(\"/_______________\\\\\")\n"
   ]
  }
 ],
 "metadata": {
  "kernelspec": {
   "display_name": "Python 3 (ipykernel)",
   "language": "python",
   "name": "python3"
  },
  "language_info": {
   "codemirror_mode": {
    "name": "ipython",
    "version": 3
   },
   "file_extension": ".py",
   "mimetype": "text/x-python",
   "name": "python",
   "nbconvert_exporter": "python",
   "pygments_lexer": "ipython3",
   "version": "3.9.5"
  }
 },
 "nbformat": 4,
 "nbformat_minor": 5
}
