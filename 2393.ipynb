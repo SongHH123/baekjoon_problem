{
 "cells": [
  {
   "cell_type": "code",
   "execution_count": 37,
   "id": "b4f500ce",
   "metadata": {
    "scrolled": false
   },
   "outputs": [
    {
     "ename": "SyntaxError",
     "evalue": "EOL while scanning string literal (1339731634.py, line 12)",
     "output_type": "error",
     "traceback": [
      "\u001b[1;36m  Cell \u001b[1;32mIn[37], line 12\u001b[1;36m\u001b[0m\n\u001b[1;33m    print(\" /             \\\")\u001b[0m\n\u001b[1;37m                             ^\u001b[0m\n\u001b[1;31mSyntaxError\u001b[0m\u001b[1;31m:\u001b[0m EOL while scanning string literal\n"
     ]
    }
   ],
   "source": [
    "print(\"  ___  ___  ___\")\n",
    "print(\"  | |__| |__| |\")\n",
    "print(\"  |           |\")\n",
    "print(\"   \\_________/\")\n",
    "print(\"    \\_______/\")\n",
    "print(\"     |     |\")\n",
    "print(\"     |     |\")\n",
    "print(\"     |     |\")\n",
    "print(\"     |     |\")\n",
    "print(\"     |_____|\")\n",
    "print(\"  __/       \\__\")\n",
    "print(\" /             \\\")\n",
    "print(\"/_______________\\\")\n"
   ]
  },
  {
   "cell_type": "code",
   "execution_count": null,
   "id": "8a739219",
   "metadata": {},
   "outputs": [],
   "source": []
  }
 ],
 "metadata": {
  "kernelspec": {
   "display_name": "Python 3 (ipykernel)",
   "language": "python",
   "name": "python3"
  },
  "language_info": {
   "codemirror_mode": {
    "name": "ipython",
    "version": 3
   },
   "file_extension": ".py",
   "mimetype": "text/x-python",
   "name": "python",
   "nbconvert_exporter": "python",
   "pygments_lexer": "ipython3",
   "version": "3.9.5"
  }
 },
 "nbformat": 4,
 "nbformat_minor": 5
}
