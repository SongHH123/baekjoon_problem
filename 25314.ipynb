{
 "cells": [
  {
   "cell_type": "code",
   "execution_count": 1,
   "id": "658434f6",
   "metadata": {
    "scrolled": false
   },
   "outputs": [
    {
     "name": "stdout",
     "output_type": "stream",
     "text": [
      "10\n",
      "0\n",
      "long 1\n",
      "long 2\n",
      "long int\n"
     ]
    }
   ],
   "source": [
    "import math\n",
    "\n",
    "n = input()\n",
    "a = math.ceil(int(n)/4)\n",
    "\n",
    "for i in range(a):\n",
    "    print(i)\n",
    "    print(\"long \",end=\"\")\n",
    "print(\"int\")"
   ]
  },
  {
   "cell_type": "code",
   "execution_count": null,
   "id": "ce073ee7",
   "metadata": {},
   "outputs": [],
   "source": []
  }
 ],
 "metadata": {
  "kernelspec": {
   "display_name": "Python 3 (ipykernel)",
   "language": "python",
   "name": "python3"
  },
  "language_info": {
   "codemirror_mode": {
    "name": "ipython",
    "version": 3
   },
   "file_extension": ".py",
   "mimetype": "text/x-python",
   "name": "python",
   "nbconvert_exporter": "python",
   "pygments_lexer": "ipython3",
   "version": "3.7.9"
  }
 },
 "nbformat": 4,
 "nbformat_minor": 5
}
