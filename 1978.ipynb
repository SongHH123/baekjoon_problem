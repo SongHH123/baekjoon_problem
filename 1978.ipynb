{
 "cells": [
  {
   "cell_type": "code",
   "execution_count": 68,
   "id": "658434f6",
   "metadata": {
    "scrolled": true
   },
   "outputs": [
    {
     "name": "stdout",
     "output_type": "stream",
     "text": [
      "10\n",
      "1 2 3 4 5 6 7 8 9 11\n",
      "5\n"
     ]
    }
   ],
   "source": [
    "#소수 찾기\n",
    "N = int(input())\n",
    "n = 0\n",
    "line = input().split(' ')\n",
    "for i in range(len(line)):\n",
    "    if(int(line[i])==2):\n",
    "        n+=1\n",
    "    for j in range(2, int(line[i])):\n",
    "        if(int(line[i])%j==0):\n",
    "            break\n",
    "        elif(int(line[i])==j+1):\n",
    "            n+=1\n",
    "            \n",
    "print(n)"
   ]
  },
  {
   "cell_type": "markdown",
   "id": "11a100f4",
   "metadata": {},
   "source": [
    "# "
   ]
  }
 ],
 "metadata": {
  "kernelspec": {
   "display_name": "Python 3 (ipykernel)",
   "language": "python",
   "name": "python3"
  },
  "language_info": {
   "codemirror_mode": {
    "name": "ipython",
    "version": 3
   },
   "file_extension": ".py",
   "mimetype": "text/x-python",
   "name": "python",
   "nbconvert_exporter": "python",
   "pygments_lexer": "ipython3",
   "version": "3.7.9"
  }
 },
 "nbformat": 4,
 "nbformat_minor": 5
}
