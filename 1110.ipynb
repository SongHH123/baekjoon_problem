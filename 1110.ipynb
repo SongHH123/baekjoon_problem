{
 "cells": [
  {
   "cell_type": "code",
   "execution_count": 7,
   "id": "b14ff257",
   "metadata": {},
   "outputs": [
    {
     "name": "stdout",
     "output_type": "stream",
     "text": [
      "71\n",
      "12\n"
     ]
    }
   ],
   "source": [
    "N=input()\n",
    "if(int(N)==0):\n",
    "    print(1)\n",
    "    a=0\n",
    "    n=0\n",
    "else:\n",
    "    if(len(N)<2):\n",
    "        N='0'+N[0]\n",
    "    a=N[-1]+(str(int(N[0])+int(N[1]))[-1])\n",
    "    n=1\n",
    "    while(int(N)!=int(a)):\n",
    "        n+=1\n",
    "        if(len(a)<2):\n",
    "            N='0'+N[0]\n",
    "        a=a[-1]+(str(int(a[0])+int(a[1]))[-1])\n",
    "    print(n)"
   ]
  }
 ],
 "metadata": {
  "kernelspec": {
   "display_name": "Python 3 (ipykernel)",
   "language": "python",
   "name": "python3"
  },
  "language_info": {
   "codemirror_mode": {
    "name": "ipython",
    "version": 3
   },
   "file_extension": ".py",
   "mimetype": "text/x-python",
   "name": "python",
   "nbconvert_exporter": "python",
   "pygments_lexer": "ipython3",
   "version": "3.9.5"
  }
 },
 "nbformat": 4,
 "nbformat_minor": 5
}
