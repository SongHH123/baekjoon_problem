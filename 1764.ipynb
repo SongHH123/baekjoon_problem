{
 "cells": [
  {
   "cell_type": "code",
   "execution_count": 43,
   "id": "061ffb98-d1c9-44ff-97a9-cdcdeeafeb61",
   "metadata": {},
   "outputs": [
    {
     "name": "stdin",
     "output_type": "stream",
     "text": [
      " 3 4\n",
      " a\n",
      " b\n",
      " c\n",
      " a\n",
      " b\n",
      " c\n",
      " d\n"
     ]
    }
   ],
   "source": [
    "N, M = map(int, input().split())\n",
    "NL=[]\n",
    "NS=[]\n",
    "\n",
    "for i in range(N):\n",
    "    NL.append(input())\n",
    "\n",
    "for i in range(M):\n",
    "    NS.append(input())\n",
    "\n",
    "NLS = set(NL) & set(NS)"
   ]
  },
  {
   "cell_type": "code",
   "execution_count": 44,
   "id": "7f3887c0-2fa6-4bfe-9383-98ee9c5eb072",
   "metadata": {},
   "outputs": [
    {
     "name": "stdout",
     "output_type": "stream",
     "text": [
      "3\n",
      "a\n",
      "b\n",
      "c\n"
     ]
    }
   ],
   "source": [
    "print(len(NLS))\n",
    "NLS=list(NLS)\n",
    "NLS.sort()\n",
    "for i in NLS:\n",
    "    print(i)"
   ]
  }
 ],
 "metadata": {
  "kernelspec": {
   "display_name": "Python 3 (ipykernel)",
   "language": "python",
   "name": "python3"
  },
  "language_info": {
   "codemirror_mode": {
    "name": "ipython",
    "version": 3
   },
   "file_extension": ".py",
   "mimetype": "text/x-python",
   "name": "python",
   "nbconvert_exporter": "python",
   "pygments_lexer": "ipython3",
   "version": "3.12.7"
  }
 },
 "nbformat": 4,
 "nbformat_minor": 5
}
