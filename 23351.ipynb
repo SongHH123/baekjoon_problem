{
 "cells": [
  {
   "cell_type": "code",
   "execution_count": 5,
   "id": "b4f500ce",
   "metadata": {
    "scrolled": true
   },
   "outputs": [
    {
     "name": "stdout",
     "output_type": "stream",
     "text": [
      "2 2 1 1\n",
      "3\n"
     ]
    }
   ],
   "source": [
    "N,K,A,B = map(int,input().split())\n",
    "Pot=[K]*N\n",
    "D=0\n",
    "while(Pot[A]!=0):\n",
    "    D+=1\n",
    "    for i in range(N):\n",
    "        Pot[i]-=1\n",
    "    Pot = sorted(Pot)\n",
    "    for i in range(A):\n",
    "        Pot[i]+=B\n",
    "print(D)"
   ]
  }
 ],
 "metadata": {
  "kernelspec": {
   "display_name": "Python 3 (ipykernel)",
   "language": "python",
   "name": "python3"
  },
  "language_info": {
   "codemirror_mode": {
    "name": "ipython",
    "version": 3
   },
   "file_extension": ".py",
   "mimetype": "text/x-python",
   "name": "python",
   "nbconvert_exporter": "python",
   "pygments_lexer": "ipython3",
   "version": "3.9.5"
  }
 },
 "nbformat": 4,
 "nbformat_minor": 5
}
