{
 "cells": [
  {
   "cell_type": "code",
   "execution_count": 1,
   "id": "b72f8e73",
   "metadata": {
    "scrolled": true
   },
   "outputs": [
    {
     "name": "stdout",
     "output_type": "stream",
     "text": [
      "60\n",
      "100\n",
      "620\n",
      "61\n"
     ]
    }
   ],
   "source": [
    "M = int(input())\n",
    "N = int(input())\n",
    "arr = list(range(M, N+1))\n",
    "del_arr=[]\n",
    "for i in range(2,int(N/2)+1):\n",
    "    for j in range(len(arr)):\n",
    "        if (arr[j]%i == 0):\n",
    "            if(arr[j]/i == 1):\n",
    "                del_arr+=arr[j+i: len(arr): i]\n",
    "            else:\n",
    "                del_arr+=arr[j: len(arr): i]\n",
    "            break\n",
    "del_arr=(set(del_arr))\n",
    "final_arr = [i for i in arr if i not in del_arr]\n",
    "\n",
    "if(len(final_arr)==0 or (min(final_arr)==1 and len(final_arr)==1)):\n",
    "    print(-1)\n",
    "elif(min(final_arr)==1):\n",
    "    final_arr.remove(1)\n",
    "    print(sum(final_arr))\n",
    "    print(min(final_arr))\n",
    "else:\n",
    "    print(sum(final_arr))\n",
    "    print(min(final_arr))"
   ]
  }
 ],
 "metadata": {
  "kernelspec": {
   "display_name": "Python 3 (ipykernel)",
   "language": "python",
   "name": "python3"
  },
  "language_info": {
   "codemirror_mode": {
    "name": "ipython",
    "version": 3
   },
   "file_extension": ".py",
   "mimetype": "text/x-python",
   "name": "python",
   "nbconvert_exporter": "python",
   "pygments_lexer": "ipython3",
   "version": "3.9.5"
  }
 },
 "nbformat": 4,
 "nbformat_minor": 5
}
