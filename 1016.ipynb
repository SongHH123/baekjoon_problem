{
 "cells": [
  {
   "cell_type": "code",
   "execution_count": 22,
   "id": "13a2492b",
   "metadata": {},
   "outputs": [
    {
     "name": "stdout",
     "output_type": "stream",
     "text": [
      "1 1000\n",
      "608\n"
     ]
    }
   ],
   "source": [
    "m, M = map(int,input().split())\n",
    "a = [i**2 for i in range(2,int(M**0.5)+1)]\n",
    "num = [1]*(M-m+1)\n",
    "for i in a:\n",
    "    n = int(m/i)*i\n",
    "    while(n<M+1):\n",
    "        if n-m >= 0:\n",
    "            num[n-m] = 0\n",
    "        n += i\n",
    "print(sum(num))"
   ]
  }
 ],
 "metadata": {
  "kernelspec": {
   "display_name": "Python 3 (ipykernel)",
   "language": "python",
   "name": "python3"
  },
  "language_info": {
   "codemirror_mode": {
    "name": "ipython",
    "version": 3
   },
   "file_extension": ".py",
   "mimetype": "text/x-python",
   "name": "python",
   "nbconvert_exporter": "python",
   "pygments_lexer": "ipython3",
   "version": "3.9.5"
  }
 },
 "nbformat": 4,
 "nbformat_minor": 5
}
