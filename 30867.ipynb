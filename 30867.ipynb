{
 "cells": [
  {
   "cell_type": "code",
   "execution_count": 10,
   "id": "409a33a1",
   "metadata": {},
   "outputs": [
    {
     "name": "stdout",
     "output_type": "stream",
     "text": [
      "4\n",
      "10 5\n",
      "6 -3\n",
      "3 2\n",
      "4 2\n",
      "6 -3\n"
     ]
    }
   ],
   "source": [
    "sy=1001\n",
    "for _ in range(int(input())):\n",
    "    x, y = map(int, input().split())\n",
    "    if(sy>y):\n",
    "        sx=x\n",
    "        sy=y\n",
    "print(sx, sy)"
   ]
  }
 ],
 "metadata": {
  "kernelspec": {
   "display_name": "Python 3 (ipykernel)",
   "language": "python",
   "name": "python3"
  },
  "language_info": {
   "codemirror_mode": {
    "name": "ipython",
    "version": 3
   },
   "file_extension": ".py",
   "mimetype": "text/x-python",
   "name": "python",
   "nbconvert_exporter": "python",
   "pygments_lexer": "ipython3",
   "version": "3.9.5"
  }
 },
 "nbformat": 4,
 "nbformat_minor": 5
}
