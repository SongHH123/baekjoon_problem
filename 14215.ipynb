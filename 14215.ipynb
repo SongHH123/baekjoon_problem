{
 "cells": [
  {
   "cell_type": "code",
   "execution_count": 11,
   "id": "b4f500ce",
   "metadata": {},
   "outputs": [
    {
     "name": "stdout",
     "output_type": "stream",
     "text": [
      "41 64 16\n",
      "113\n"
     ]
    }
   ],
   "source": [
    "T = list(map(int, input().split()))\n",
    "if(max(T)<sum(T)-max(T)):\n",
    "    print(sum(T))\n",
    "elif(max(T)==(sum(T)-max(T))):\n",
    "    print(sum(T)-1)\n",
    "else:\n",
    "    print(2*(sum(T)-max(T))-1)"
   ]
  }
 ],
 "metadata": {
  "kernelspec": {
   "display_name": "Python 3 (ipykernel)",
   "language": "python",
   "name": "python3"
  },
  "language_info": {
   "codemirror_mode": {
    "name": "ipython",
    "version": 3
   },
   "file_extension": ".py",
   "mimetype": "text/x-python",
   "name": "python",
   "nbconvert_exporter": "python",
   "pygments_lexer": "ipython3",
   "version": "3.9.5"
  }
 },
 "nbformat": 4,
 "nbformat_minor": 5
}
