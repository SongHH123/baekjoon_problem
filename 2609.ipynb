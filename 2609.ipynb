{
 "cells": [
  {
   "cell_type": "code",
   "execution_count": 24,
   "id": "c025191d",
   "metadata": {},
   "outputs": [
    {
     "name": "stdout",
     "output_type": "stream",
     "text": [
      "99 121\n",
      "11\n",
      "1089\n"
     ]
    }
   ],
   "source": [
    "M, N = map(int, input().split())\n",
    "MN = M*N\n",
    "m=1\n",
    "n=1\n",
    "    \n",
    "while(True):    \n",
    "    for i in range(2, int(min(M, N))+1):\n",
    "        if(N%i==0 and M%i == 0):\n",
    "            M/=i\n",
    "            N/=i\n",
    "            n*=i\n",
    "            m=i\n",
    "            break\n",
    "        m=i\n",
    "    if(min(M, N)/m<=1):\n",
    "        break;\n",
    "print(n)\n",
    "print(int(MN/n))"
   ]
  }
 ],
 "metadata": {
  "kernelspec": {
   "display_name": "Python 3 (ipykernel)",
   "language": "python",
   "name": "python3"
  },
  "language_info": {
   "codemirror_mode": {
    "name": "ipython",
    "version": 3
   },
   "file_extension": ".py",
   "mimetype": "text/x-python",
   "name": "python",
   "nbconvert_exporter": "python",
   "pygments_lexer": "ipython3",
   "version": "3.9.5"
  }
 },
 "nbformat": 4,
 "nbformat_minor": 5
}
