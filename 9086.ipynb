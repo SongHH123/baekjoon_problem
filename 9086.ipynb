{
 "cells": [
  {
   "cell_type": "code",
   "execution_count": 125,
   "id": "658434f6",
   "metadata": {
    "scrolled": true
   },
   "outputs": [
    {
     "name": "stdout",
     "output_type": "stream",
     "text": [
      "3\n",
      "ACDKJFOWIEGHE\n",
      "AE\n",
      "O\n",
      "OO\n",
      "AB\n",
      "AB\n"
     ]
    }
   ],
   "source": [
    "T = input()\n",
    "\n",
    "for i in range(int(T)):\n",
    "    arr = input()\n",
    "    print(arr[0]+arr[-1])"
   ]
  },
  {
   "cell_type": "code",
   "execution_count": null,
   "id": "8754ef65",
   "metadata": {},
   "outputs": [],
   "source": []
  }
 ],
 "metadata": {
  "kernelspec": {
   "display_name": "Python 3 (ipykernel)",
   "language": "python",
   "name": "python3"
  },
  "language_info": {
   "codemirror_mode": {
    "name": "ipython",
    "version": 3
   },
   "file_extension": ".py",
   "mimetype": "text/x-python",
   "name": "python",
   "nbconvert_exporter": "python",
   "pygments_lexer": "ipython3",
   "version": "3.7.9"
  }
 },
 "nbformat": 4,
 "nbformat_minor": 5
}
