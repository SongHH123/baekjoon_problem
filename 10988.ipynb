{
 "cells": [
  {
   "cell_type": "code",
   "execution_count": 16,
   "id": "658434f6",
   "metadata": {
    "scrolled": false
   },
   "outputs": [
    {
     "name": "stdout",
     "output_type": "stream",
     "text": [
      "a\n"
     ]
    }
   ],
   "source": [
    "Word = input()\n",
    "\n",
    "for i in range(int(len(Word)/2)):\n",
    "    if(Word[i] != Word[len(Word)-i-1]):\n",
    "        print('0')\n",
    "        break\n",
    "    elif(i == int(len(Word)/2)-1):\n",
    "        print('1')\n",
    "\n",
    "if(len(Word)==1):\n",
    "    print('1')"
   ]
  },
  {
   "cell_type": "code",
   "execution_count": null,
   "id": "f95183fb",
   "metadata": {},
   "outputs": [],
   "source": []
  }
 ],
 "metadata": {
  "kernelspec": {
   "display_name": "Python 3 (ipykernel)",
   "language": "python",
   "name": "python3"
  },
  "language_info": {
   "codemirror_mode": {
    "name": "ipython",
    "version": 3
   },
   "file_extension": ".py",
   "mimetype": "text/x-python",
   "name": "python",
   "nbconvert_exporter": "python",
   "pygments_lexer": "ipython3",
   "version": "3.7.9"
  }
 },
 "nbformat": 4,
 "nbformat_minor": 5
}
