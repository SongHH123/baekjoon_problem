{
 "cells": [
  {
   "cell_type": "code",
   "execution_count": 41,
   "id": "b4f500ce",
   "metadata": {
    "scrolled": true
   },
   "outputs": [
    {
     "name": "stdout",
     "output_type": "stream",
     "text": [
      "1\n",
      "onlyonefile\n",
      "onlyonefile\n"
     ]
    }
   ],
   "source": [
    "N = int(input())\n",
    "CS = input()\n",
    "for i in range(N-1):\n",
    "    C = input()\n",
    "    for j in range(len(CS)):\n",
    "        if(CS[j]=='?' or CS[j] == C[j]):\n",
    "            pass\n",
    "        else:\n",
    "            CS = CS[:j]+'?'+CS[j+1:]\n",
    "            \n",
    "print(CS)"
   ]
  }
 ],
 "metadata": {
  "kernelspec": {
   "display_name": "Python 3 (ipykernel)",
   "language": "python",
   "name": "python3"
  },
  "language_info": {
   "codemirror_mode": {
    "name": "ipython",
    "version": 3
   },
   "file_extension": ".py",
   "mimetype": "text/x-python",
   "name": "python",
   "nbconvert_exporter": "python",
   "pygments_lexer": "ipython3",
   "version": "3.9.5"
  }
 },
 "nbformat": 4,
 "nbformat_minor": 5
}
