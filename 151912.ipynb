{
 "cells": [
  {
   "cell_type": "code",
   "execution_count": 1,
   "id": "5b869454",
   "metadata": {},
   "outputs": [
    {
     "name": "stdout",
     "output_type": "stream",
     "text": [
      "1\n",
      "3 3\n",
      "2\n"
     ]
    }
   ],
   "source": [
    "T = int(input())\n",
    "for i in range(T):\n",
    "    n, r = map(int, input().split())\n",
    "    if(n+r>=100007 and n-r<100007):\n",
    "        print(0)\n",
    "        continue\n",
    "    n-=1\n",
    "    r-=n\n",
    "    A = 1\n",
    "    a = 1\n",
    "    for j in range(n, n+r):\n",
    "        A*=j\n",
    "        a*=(j-n+1)\n",
    "    print(int(A/a)% 100007)"
   ]
  },
  {
   "cell_type": "code",
   "execution_count": null,
   "id": "96e20f01",
   "metadata": {},
   "outputs": [],
   "source": []
  }
 ],
 "metadata": {
  "kernelspec": {
   "display_name": "Python 3 (ipykernel)",
   "language": "python",
   "name": "python3"
  },
  "language_info": {
   "codemirror_mode": {
    "name": "ipython",
    "version": 3
   },
   "file_extension": ".py",
   "mimetype": "text/x-python",
   "name": "python",
   "nbconvert_exporter": "python",
   "pygments_lexer": "ipython3",
   "version": "3.9.5"
  }
 },
 "nbformat": 4,
 "nbformat_minor": 5
}
