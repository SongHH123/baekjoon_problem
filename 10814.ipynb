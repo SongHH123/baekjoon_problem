{
 "cells": [
  {
   "cell_type": "code",
   "execution_count": 173,
   "id": "b4f500ce",
   "metadata": {
    "scrolled": false
   },
   "outputs": [
    {
     "name": "stdout",
     "output_type": "stream",
     "text": [
      "2\n",
      "1 a\n",
      "1 b\n",
      "1 a\n",
      "1 b\n"
     ]
    }
   ],
   "source": [
    "N = int(input())\n",
    "J={}\n",
    "J_A = []\n",
    "for i in range(N):\n",
    "    S = input().split()\n",
    "    if(S[0] in J_A):\n",
    "        J[int(S[0])] = J[int(S[0])]+\",\"+S[1]\n",
    "    else:\n",
    "        J_A.append(S[0])\n",
    "        J[int(S[0])] = S[1]\n",
    "J = sorted(J.items())\n",
    "for key, value in J:\n",
    "    for j in list(value.split(',')):\n",
    "        print(key, j)"
   ]
  }
 ],
 "metadata": {
  "kernelspec": {
   "display_name": "Python 3 (ipykernel)",
   "language": "python",
   "name": "python3"
  },
  "language_info": {
   "codemirror_mode": {
    "name": "ipython",
    "version": 3
   },
   "file_extension": ".py",
   "mimetype": "text/x-python",
   "name": "python",
   "nbconvert_exporter": "python",
   "pygments_lexer": "ipython3",
   "version": "3.9.5"
  }
 },
 "nbformat": 4,
 "nbformat_minor": 5
}
