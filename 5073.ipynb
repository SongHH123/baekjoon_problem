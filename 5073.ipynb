{
 "cells": [
  {
   "cell_type": "code",
   "execution_count": 9,
   "id": "b4f500ce",
   "metadata": {},
   "outputs": [
    {
     "name": "stdout",
     "output_type": "stream",
     "text": [
      "7 7 7\n",
      "Equilateral\n",
      "6 5 4\n",
      "Scalene\n",
      "3 2 5\n",
      "Invalid\n",
      "6 2 6\n",
      "Isosceles \n",
      "3 2 1\n",
      "Invalid\n",
      "0 0 0\n"
     ]
    }
   ],
   "source": [
    "sq = list(map(int, input().split()))\n",
    "while(sq[0]!=0 and sq[1]!=0 and sq[2]!=0 ):\n",
    "    if(sq[0]==sq[1]==sq[2]):\n",
    "        print('Equilateral')\n",
    "    elif(max(sq)>=(sum(sq)-max(sq))):\n",
    "        print('Invalid')\n",
    "    elif(sq[0]==sq[1] or sq[1]==sq[2] or sq[2]==sq[0]):\n",
    "        print('Isosceles ')\n",
    "    else:\n",
    "        print('Scalene')\n",
    "    sq = list(map(int, input().split()))\n"
   ]
  }
 ],
 "metadata": {
  "kernelspec": {
   "display_name": "Python 3 (ipykernel)",
   "language": "python",
   "name": "python3"
  },
  "language_info": {
   "codemirror_mode": {
    "name": "ipython",
    "version": 3
   },
   "file_extension": ".py",
   "mimetype": "text/x-python",
   "name": "python",
   "nbconvert_exporter": "python",
   "pygments_lexer": "ipython3",
   "version": "3.9.5"
  }
 },
 "nbformat": 4,
 "nbformat_minor": 5
}
