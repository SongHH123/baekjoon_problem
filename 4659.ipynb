{
 "cells": [
  {
   "cell_type": "code",
   "execution_count": null,
   "id": "b4f500ce",
   "metadata": {
    "scrolled": false
   },
   "outputs": [
    {
     "name": "stdout",
     "output_type": "stream",
     "text": [
      "eeq\n",
      "<eeq> is acceptable.\n",
      "eep\n",
      "<eep> is acceptable.\n",
      "houctuh\n",
      "<houctuh> is acceptable.\n"
     ]
    }
   ],
   "source": [
    "s = input()+'0'\n",
    "gather = ['a','e','i','o','u']\n",
    "while(s[0:-1]!='end'):\n",
    "    i=0\n",
    "    g=0\n",
    "    ng=0\n",
    "    ac=0\n",
    "    if(len(s)==2 and s[0] in gather):\n",
    "        print('<'+s[0:-1]+'> is acceptable.')\n",
    "    elif(len(s)==2 and s[0] not in gather):\n",
    "        print('<'+s[0:-1]+'> is not acceptable.')\n",
    "    else:\n",
    "        while((g != 3 and ng != 3) and i!=(len(s)-1)):\n",
    "            if(s[i]==s[i+1] and s[i] not in ['e','o']):\n",
    "                g=3\n",
    "            elif(s[i] in gather):\n",
    "                g+=1\n",
    "                ac=1\n",
    "                ng=0\n",
    "            else:\n",
    "                ng+=1\n",
    "                g=0\n",
    "            \n",
    "            i+=1\n",
    "        if(i==(len(s)-1) and ac==1 and ng!=3 and g!=3):\n",
    "            print('<'+s[0:-1]+'> is acceptable.')\n",
    "        else:\n",
    "            print('<'+s[0:-1]+'> is not acceptable.')\n",
    "    s=input()+'0'\n",
    "            "
   ]
  },
  {
   "cell_type": "code",
   "execution_count": 62,
   "id": "5af24972",
   "metadata": {},
   "outputs": [
    {
     "data": {
      "text/plain": [
       "4"
      ]
     },
     "execution_count": 62,
     "metadata": {},
     "output_type": "execute_result"
    }
   ],
   "source": [
    "len(s)-1"
   ]
  },
  {
   "cell_type": "code",
   "execution_count": 67,
   "id": "2487c2ae",
   "metadata": {},
   "outputs": [
    {
     "data": {
      "text/plain": [
       "1"
      ]
     },
     "execution_count": 67,
     "metadata": {},
     "output_type": "execute_result"
    }
   ],
   "source": [
    "i"
   ]
  },
  {
   "cell_type": "code",
   "execution_count": 36,
   "id": "9a5bf5d4",
   "metadata": {},
   "outputs": [
    {
     "data": {
      "text/plain": [
       "3"
      ]
     },
     "execution_count": 36,
     "metadata": {},
     "output_type": "execute_result"
    }
   ],
   "source": [
    "len(s)-1"
   ]
  },
  {
   "cell_type": "code",
   "execution_count": null,
   "id": "848f2ada",
   "metadata": {},
   "outputs": [],
   "source": []
  }
 ],
 "metadata": {
  "kernelspec": {
   "display_name": "Python 3 (ipykernel)",
   "language": "python",
   "name": "python3"
  },
  "language_info": {
   "codemirror_mode": {
    "name": "ipython",
    "version": 3
   },
   "file_extension": ".py",
   "mimetype": "text/x-python",
   "name": "python",
   "nbconvert_exporter": "python",
   "pygments_lexer": "ipython3",
   "version": "3.9.5"
  }
 },
 "nbformat": 4,
 "nbformat_minor": 5
}
