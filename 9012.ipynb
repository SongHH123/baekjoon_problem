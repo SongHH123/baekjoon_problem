{
 "cells": [
  {
   "cell_type": "code",
   "execution_count": 3,
   "id": "5b869454",
   "metadata": {},
   "outputs": [
    {
     "name": "stdout",
     "output_type": "stream",
     "text": [
      "6\n",
      "(())())\n",
      "NO\n",
      "YES\n",
      "\n",
      "YES\n",
      "\n",
      "YES\n",
      "\n",
      "YES\n",
      "\n",
      "YES\n",
      "\n",
      "YES\n"
     ]
    }
   ],
   "source": [
    "N = int(input())\n",
    "for i in range(N):\n",
    "    PS = input()\n",
    "    v = 0\n",
    "    for j in range(len(PS)):\n",
    "        if(PS[j]=='('):\n",
    "            v+=1\n",
    "        else:\n",
    "            if(v==0):\n",
    "                print(\"NO\")\n",
    "                break\n",
    "            v-=1\n",
    "    if(v==0):\n",
    "        print(\"YES\")\n",
    "    else:\n",
    "        print(\"NO\")"
   ]
  },
  {
   "cell_type": "code",
   "execution_count": null,
   "id": "6ecdbcf9",
   "metadata": {},
   "outputs": [],
   "source": []
  }
 ],
 "metadata": {
  "kernelspec": {
   "display_name": "Python 3 (ipykernel)",
   "language": "python",
   "name": "python3"
  },
  "language_info": {
   "codemirror_mode": {
    "name": "ipython",
    "version": 3
   },
   "file_extension": ".py",
   "mimetype": "text/x-python",
   "name": "python",
   "nbconvert_exporter": "python",
   "pygments_lexer": "ipython3",
   "version": "3.9.5"
  }
 },
 "nbformat": 4,
 "nbformat_minor": 5
}
