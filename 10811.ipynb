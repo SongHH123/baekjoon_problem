{
 "cells": [
  {
   "cell_type": "code",
   "execution_count": 115,
   "id": "658434f6",
   "metadata": {
    "scrolled": true
   },
   "outputs": [
    {
     "name": "stdout",
     "output_type": "stream",
     "text": [
      "5 4\n",
      "1 2\n",
      "3 4\n",
      "1 4\n",
      "2 2\n",
      "3 4 1 2 5 "
     ]
    }
   ],
   "source": [
    "import math\n",
    "\n",
    "NM = input().split(' ')\n",
    "B = list(range(1, int(NM[0])+1))\n",
    "\n",
    "for i in range(int(NM[1])):\n",
    "    R = input().split(' ')\n",
    "    R = list(map(int, R))\n",
    "    for i in range(math.ceil(int(R[1]-R[0])/2)):\n",
    "        B[R[0]+i-1],B[R[1]-i-1] = B[R[1]-i-1],B[R[0]+i-1]\n",
    "        \n",
    "for i in B:\n",
    "     print(int(i), end=' ')"
   ]
  }
 ],
 "metadata": {
  "kernelspec": {
   "display_name": "Python 3 (ipykernel)",
   "language": "python",
   "name": "python3"
  },
  "language_info": {
   "codemirror_mode": {
    "name": "ipython",
    "version": 3
   },
   "file_extension": ".py",
   "mimetype": "text/x-python",
   "name": "python",
   "nbconvert_exporter": "python",
   "pygments_lexer": "ipython3",
   "version": "3.7.9"
  }
 },
 "nbformat": 4,
 "nbformat_minor": 5
}
