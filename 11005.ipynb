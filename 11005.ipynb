{
 "cells": [
  {
   "cell_type": "code",
   "execution_count": 29,
   "id": "b72f8e73",
   "metadata": {
    "scrolled": true
   },
   "outputs": [
    {
     "name": "stdout",
     "output_type": "stream",
     "text": [
      "200 2\n",
      "11001000\n"
     ]
    }
   ],
   "source": [
    "NB = input().split(' ')\n",
    "N = int(NB[0])\n",
    "B = int(NB[1])\n",
    "A=''\n",
    "\n",
    "if (B<10) :\n",
    "    while(N!=0):\n",
    "        N, r = divmod(N, B)\n",
    "        A+=str(r)\n",
    "    print(''.join(reversed(A)))\n",
    "        \n",
    "elif(B==10):\n",
    "    print(N)\n",
    "    \n",
    "else :\n",
    "    while(N!=0):\n",
    "        N, r = divmod(N, B)\n",
    "        if(r>9):\n",
    "            A+=chr(r+55)\n",
    "        else:\n",
    "            A+=str(r)\n",
    "    print(''.join(reversed(A)))"
   ]
  }
 ],
 "metadata": {
  "kernelspec": {
   "display_name": "Python 3 (ipykernel)",
   "language": "python",
   "name": "python3"
  },
  "language_info": {
   "codemirror_mode": {
    "name": "ipython",
    "version": 3
   },
   "file_extension": ".py",
   "mimetype": "text/x-python",
   "name": "python",
   "nbconvert_exporter": "python",
   "pygments_lexer": "ipython3",
   "version": "3.9.5"
  }
 },
 "nbformat": 4,
 "nbformat_minor": 5
}
