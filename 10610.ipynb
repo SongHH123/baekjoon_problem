{
 "cells": [
  {
   "cell_type": "code",
   "execution_count": null,
   "id": "4fa90176",
   "metadata": {},
   "outputs": [],
   "source": [
    "L = list(map(int,input()))\n",
    "if(min(L)!=0 or sum(L)%3!=0):\n",
    "    print(-1)\n",
    "else:\n",
    "    L.sort(reverse=True)\n",
    "    for i in range(len(L)):\n",
    "        print(L[i], end='')"
   ]
  },
  {
   "cell_type": "code",
   "execution_count": 40,
   "id": "f43c0f06",
   "metadata": {},
   "outputs": [
    {
     "data": {
      "text/plain": [
       "[]"
      ]
     },
     "execution_count": 40,
     "metadata": {},
     "output_type": "execute_result"
    }
   ],
   "source": [
    "L"
   ]
  },
  {
   "cell_type": "code",
   "execution_count": null,
   "id": "e6d29c05",
   "metadata": {},
   "outputs": [],
   "source": []
  }
 ],
 "metadata": {
  "kernelspec": {
   "display_name": "Python 3 (ipykernel)",
   "language": "python",
   "name": "python3"
  },
  "language_info": {
   "codemirror_mode": {
    "name": "ipython",
    "version": 3
   },
   "file_extension": ".py",
   "mimetype": "text/x-python",
   "name": "python",
   "nbconvert_exporter": "python",
   "pygments_lexer": "ipython3",
   "version": "3.9.5"
  }
 },
 "nbformat": 4,
 "nbformat_minor": 5
}
