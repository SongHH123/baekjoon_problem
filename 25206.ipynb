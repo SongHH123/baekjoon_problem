{
 "cells": [
  {
   "cell_type": "code",
   "execution_count": null,
   "id": "658434f6",
   "metadata": {
    "scrolled": true
   },
   "outputs": [
    {
     "name": "stdout",
     "output_type": "stream",
     "text": [
      "ObjectOrientedProgramming1 3.0 A+\n",
      "IntroductiontoComputerEngineering 3.0 A+\n",
      "ObjectOrientedProgramming2 3.0 A0\n",
      "CreativeComputerEngineeringDesign 3.0 A+\n",
      "AssemblyLanguage 3.0 A+\n",
      "InternetProgramming 3.0 B0\n",
      "ApplicationProgramminginJava 3.0 A0\n",
      "SystemProgramming 3.0 B0\n",
      "OperatingSystem 3.0 B0\n",
      "WirelessCommunicationsandNetworking 3.0 C+\n",
      "LogicCircuits 3.0 B0\n",
      "DataStructure 4.0 A+\n",
      "MicroprocessorApplication 3.0 B+\n"
     ]
    }
   ],
   "source": [
    "#너의 평점은\n",
    "projects=[0.0,0.0]\n",
    "for i in range(20):\n",
    "    project= input().split(' ')\n",
    "    if(project[2]=='P'):\n",
    "        project[1] = 0.0\n",
    "        project[2] = 0.0\n",
    "    project[1] = float(project[1])\n",
    "    if(project[2] ==\"A+\"): \n",
    "        project[2]=4.5\n",
    "    if(project[2] ==\"A0\"): \n",
    "        project[2]=4.0\n",
    "    if(project[2] ==\"B+\"): \n",
    "        project[2]=3.5\n",
    "    if(project[2] ==\"B0\"): \n",
    "        project[2]=3.0\n",
    "    if(project[2] ==\"C+\"): \n",
    "        project[2]=2.5\n",
    "    if(project[2] ==\"C0\"): \n",
    "        project[2]=2.0\n",
    "    if(project[2] ==\"D+\"): \n",
    "        project[2]=1.5\n",
    "    if(project[2] ==\"D0\"): \n",
    "        project[2]=1.0\n",
    "    if(project[2] ==\"F\"): \n",
    "        project[2]=0.0\n",
    "\n",
    "    projects[0]+=project[1]\n",
    "    projects[1]+=float(project[2])*float(project[1])\n",
    "\n",
    "print(format((projects[1]/projects[0]),\".6f\"))"
   ]
  },
  {
   "cell_type": "code",
   "execution_count": 7,
   "id": "2734fca0",
   "metadata": {},
   "outputs": [],
   "source": [
    "if(project[2]=='P'):\n",
    "        project[1] = 0.0\n",
    "        project[2] = 0.0"
   ]
  },
  {
   "cell_type": "code",
   "execution_count": 8,
   "id": "f1efe2c2",
   "metadata": {},
   "outputs": [
    {
     "data": {
      "text/plain": [
       "['ProblemSolving', 0.0, 0.0]"
      ]
     },
     "execution_count": 8,
     "metadata": {},
     "output_type": "execute_result"
    }
   ],
   "source": [
    "project"
   ]
  },
  {
   "cell_type": "code",
   "execution_count": null,
   "id": "23d158a5",
   "metadata": {},
   "outputs": [],
   "source": []
  }
 ],
 "metadata": {
  "kernelspec": {
   "display_name": "Python 3 (ipykernel)",
   "language": "python",
   "name": "python3"
  },
  "language_info": {
   "codemirror_mode": {
    "name": "ipython",
    "version": 3
   },
   "file_extension": ".py",
   "mimetype": "text/x-python",
   "name": "python",
   "nbconvert_exporter": "python",
   "pygments_lexer": "ipython3",
   "version": "3.7.9"
  }
 },
 "nbformat": 4,
 "nbformat_minor": 5
}
