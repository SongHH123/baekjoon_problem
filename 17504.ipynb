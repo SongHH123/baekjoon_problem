{
 "cells": [
  {
   "cell_type": "code",
   "execution_count": 31,
   "id": "b4f500ce",
   "metadata": {},
   "outputs": [
    {
     "name": "stdout",
     "output_type": "stream",
     "text": [
      "4\n",
      "2 7 1 8\n",
      "80 151\n"
     ]
    }
   ],
   "source": [
    "n = int(input())\n",
    "N = list(map(int, input().split()))\n",
    "a=1\n",
    "b=N[n-1]\n",
    "temp=1\n",
    "for i in range(n-2, -1, -1):\n",
    "    temp=a\n",
    "    a=b\n",
    "    b=a*N[i]+temp\n",
    "    \n",
    "print(b-a, b)"
   ]
  }
 ],
 "metadata": {
  "kernelspec": {
   "display_name": "Python 3 (ipykernel)",
   "language": "python",
   "name": "python3"
  },
  "language_info": {
   "codemirror_mode": {
    "name": "ipython",
    "version": 3
   },
   "file_extension": ".py",
   "mimetype": "text/x-python",
   "name": "python",
   "nbconvert_exporter": "python",
   "pygments_lexer": "ipython3",
   "version": "3.9.5"
  }
 },
 "nbformat": 4,
 "nbformat_minor": 5
}
