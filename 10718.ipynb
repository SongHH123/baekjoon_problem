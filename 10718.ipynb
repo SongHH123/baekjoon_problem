{
 "cells": [
  {
   "cell_type": "code",
   "execution_count": 3,
   "id": "b14ff257",
   "metadata": {},
   "outputs": [
    {
     "name": "stdout",
     "output_type": "stream",
     "text": [
      "10\n",
      "3628800\n"
     ]
    }
   ],
   "source": [
    "N = int(input())\n",
    "\n",
    "if(N==0):\n",
    "    print(1)\n",
    "else:\n",
    "    for i in range(1, N):\n",
    "        N*=i\n",
    "    print(N)"
   ]
  }
 ],
 "metadata": {
  "kernelspec": {
   "display_name": "Python 3 (ipykernel)",
   "language": "python",
   "name": "python3"
  },
  "language_info": {
   "codemirror_mode": {
    "name": "ipython",
    "version": 3
   },
   "file_extension": ".py",
   "mimetype": "text/x-python",
   "name": "python",
   "nbconvert_exporter": "python",
   "pygments_lexer": "ipython3",
   "version": "3.9.5"
  }
 },
 "nbformat": 4,
 "nbformat_minor": 5
}
