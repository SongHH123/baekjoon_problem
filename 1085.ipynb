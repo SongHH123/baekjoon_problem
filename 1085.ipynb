{
 "cells": [
  {
   "cell_type": "code",
   "execution_count": 3,
   "id": "ab3cd43b",
   "metadata": {},
   "outputs": [
    {
     "name": "stdout",
     "output_type": "stream",
     "text": [
      "100 100 99 1\n",
      "1\n"
     ]
    }
   ],
   "source": [
    "xywh = input().split(' ')\n",
    "x = [int(xywh[0]), int(xywh[0])-int(xywh[2]), int(xywh[1]), int(xywh[1])-int(xywh[3])]\n",
    "if (x[1]<0):\n",
    "    x[1] *= -1 \n",
    "if (x[3]<0):\n",
    "    x[3] *= -1 \n",
    "    \n",
    "print(min(x))"
   ]
  }
 ],
 "metadata": {
  "kernelspec": {
   "display_name": "Python 3 (ipykernel)",
   "language": "python",
   "name": "python3"
  },
  "language_info": {
   "codemirror_mode": {
    "name": "ipython",
    "version": 3
   },
   "file_extension": ".py",
   "mimetype": "text/x-python",
   "name": "python",
   "nbconvert_exporter": "python",
   "pygments_lexer": "ipython3",
   "version": "3.9.5"
  }
 },
 "nbformat": 4,
 "nbformat_minor": 5
}
