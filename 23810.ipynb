{
 "cells": [
  {
   "cell_type": "code",
   "execution_count": 15,
   "id": "409a33a1",
   "metadata": {},
   "outputs": [
    {
     "name": "stdout",
     "output_type": "stream",
     "text": [
      "3\n",
      "@@@@@@@@@@@@@@@\n",
      "@@@@@@@@@@@@@@@\n",
      "@@@@@@@@@@@@@@@\n",
      "@@@\n",
      "@@@\n",
      "@@@\n",
      "@@@@@@@@@@@@@@@\n",
      "@@@@@@@@@@@@@@@\n",
      "@@@@@@@@@@@@@@@\n",
      "@@@\n",
      "@@@\n",
      "@@@\n",
      "@@@\n",
      "@@@\n",
      "@@@\n"
     ]
    }
   ],
   "source": [
    "n = int(input())\n",
    "for j in range(n):\n",
    "    for k in range(n):\n",
    "        print('@@@@@', end='')\n",
    "    print()\n",
    "for j in range(n):\n",
    "    for k in range(n):\n",
    "        print('@', end='')\n",
    "    print()\n",
    "for j in range(n):\n",
    "    for k in range(n):\n",
    "        print('@@@@@', end='')\n",
    "    print()\n",
    "for j in range(n*2):\n",
    "    for k in range(n):\n",
    "        print('@', end='')\n",
    "    print()"
   ]
  }
 ],
 "metadata": {
  "kernelspec": {
   "display_name": "Python 3 (ipykernel)",
   "language": "python",
   "name": "python3"
  },
  "language_info": {
   "codemirror_mode": {
    "name": "ipython",
    "version": 3
   },
   "file_extension": ".py",
   "mimetype": "text/x-python",
   "name": "python",
   "nbconvert_exporter": "python",
   "pygments_lexer": "ipython3",
   "version": "3.9.5"
  }
 },
 "nbformat": 4,
 "nbformat_minor": 5
}
