{
 "cells": [
  {
   "cell_type": "code",
   "execution_count": 13,
   "id": "b4f500ce",
   "metadata": {},
   "outputs": [
    {
     "name": "stdout",
     "output_type": "stream",
     "text": [
      "AECF\n",
      "You're the winner?\n"
     ]
    }
   ],
   "source": [
    "alpha=['A','B','C','D','E','F','G','H','I','J','K','L','M','N','O','P','Q','R','S','T','U','V','W','X','Y','Z']\n",
    "num=[3, 2, 1, 2, 3, 3, 3, 3, 1, 1, 3, 1, 3, 3, 1, 2, 2, 2, 1, 2, 1, 1, 2, 2, 2, 1]\n",
    "dic={}\n",
    "for i in range(len(alpha)):\n",
    "    dic[alpha[i]] = num[i]\n",
    "    \n",
    "s = input()\n",
    "result=0\n",
    "for i in s:\n",
    "    result+=dic[i]\n",
    "    \n",
    "if(result%2):\n",
    "    print(\"I'm a winner!\")\n",
    "else:\n",
    "    print(\"You're the winner?\")"
   ]
  }
 ],
 "metadata": {
  "kernelspec": {
   "display_name": "Python 3 (ipykernel)",
   "language": "python",
   "name": "python3"
  },
  "language_info": {
   "codemirror_mode": {
    "name": "ipython",
    "version": 3
   },
   "file_extension": ".py",
   "mimetype": "text/x-python",
   "name": "python",
   "nbconvert_exporter": "python",
   "pygments_lexer": "ipython3",
   "version": "3.9.5"
  }
 },
 "nbformat": 4,
 "nbformat_minor": 5
}
