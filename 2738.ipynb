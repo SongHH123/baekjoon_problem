{
 "cells": [
  {
   "cell_type": "code",
   "execution_count": null,
   "id": "658434f6",
   "metadata": {
    "scrolled": false
   },
   "outputs": [
    {
     "name": "stdout",
     "output_type": "stream",
     "text": [
      "3 3\n",
      "1 1 1\n"
     ]
    }
   ],
   "source": [
    "#행렬 덧셈\n",
    "n, m = map(int,input().split(' '))\n",
    "A = []\n",
    "B=[]\n",
    "for i in range(2):\n",
    "    for j in range(n):\n",
    "        line = list(map(int,input().split(' ')))\n",
    "        A.append(line)\n",
    "            \n",
    "for i in range(n):\n",
    "    for j in range(m):\n",
    "        A[i][j] += A[i+n][j]\n",
    "        print(A[i][j], end=' ')\n",
    "    print()"
   ]
  },
  {
   "cell_type": "code",
   "execution_count": null,
   "id": "f9b615bf",
   "metadata": {},
   "outputs": [],
   "source": [
    "\n"
   ]
  }
 ],
 "metadata": {
  "kernelspec": {
   "display_name": "Python 3 (ipykernel)",
   "language": "python",
   "name": "python3"
  },
  "language_info": {
   "codemirror_mode": {
    "name": "ipython",
    "version": 3
   },
   "file_extension": ".py",
   "mimetype": "text/x-python",
   "name": "python",
   "nbconvert_exporter": "python",
   "pygments_lexer": "ipython3",
   "version": "3.7.9"
  }
 },
 "nbformat": 4,
 "nbformat_minor": 5
}
