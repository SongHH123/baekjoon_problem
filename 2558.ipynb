{
 "cells": [
  {
   "cell_type": "code",
   "execution_count": 2,
   "id": "32b9c43a",
   "metadata": {},
   "outputs": [
    {
     "name": "stdout",
     "output_type": "stream",
     "text": [
      "4 5 1\n",
      "1 2\n",
      "1 3\n",
      "1 4\n",
      "2 4\n",
      "3 4\n",
      "[[1, 1, 1, 1], [1, 1, 0, 1], [1, 0, 1, 1], [1, 1, 1, 1]]\n",
      "1 [[0, 1, 1, 1], [1, 1, 0, 1], [1, 0, 1, 1], [1, 1, 1, 1]]\n",
      "1 [[0, 0, 1, 1], [0, 1, 0, 1], [1, 0, 1, 1], [1, 1, 1, 1]]\n",
      "1 [[0, 0, 0, 1], [0, 1, 0, 1], [0, 0, 1, 1], [1, 1, 1, 1]]\n",
      "1 \n",
      "[[1, 1, 1, 1], [1, 1, 0, 1], [1, 0, 1, 1], [1, 1, 1, 1]]\n",
      "1 [[0, 1, 1, 1], [1, 1, 0, 1], [1, 0, 1, 1], [1, 1, 1, 1]]\n",
      "1 [[0, 0, 1, 1], [0, 1, 0, 1], [1, 0, 1, 1], [1, 1, 1, 1]]\n",
      "1 [[0, 0, 0, 1], [0, 1, 0, 1], [0, 0, 1, 1], [1, 1, 1, 1]]\n",
      "1 "
     ]
    }
   ],
   "source": [
    "import copy\n",
    "N,M,V = map(int, input().split())\n",
    "V-=1\n",
    "MN = [[0 for i in range(N)]for i in range(N)]\n",
    "for i in range(N):\n",
    "    MN[i][i]=1\n",
    "    \n",
    "for i in range(M):\n",
    "    n, m = map(int, input().split())\n",
    "    MN[n-1][m-1] = 1\n",
    "    MN[m-1][n-1] = 1\n",
    "\n",
    "D=V\n",
    "MN_ = copy.deepcopy(MN)\n",
    "for i in range(N):\n",
    "    print(MN_)\n",
    "    i= V+i\n",
    "    if(i>N-1):\n",
    "        i-=N\n",
    "    for j in range(N):\n",
    "        if(MN_[D][i]==1):\n",
    "            print(D+1, end=' ')\n",
    "            MN_[D][i]=0\n",
    "            MN_[i][D]=0\n",
    "            break\n",
    "        else:\n",
    "            if(D>=N-1):\n",
    "                D=0\n",
    "            else:\n",
    "                D+=1    \n",
    "print()\n",
    "\n",
    "B=V\n",
    "MN_ = copy.deepcopy(MN)\n",
    "for i in range(N):\n",
    "    print(MN_)\n",
    "    i= V+i\n",
    "    if(i>N-1):\n",
    "        i-=N\n",
    "    for j in range(N):\n",
    "        if(MN_[i][B]==1):\n",
    "            print(B+1, end=' ')\n",
    "            MN_[B][i]=0\n",
    "            MN_[i][B]=0\n",
    "            break\n",
    "        else:\n",
    "            if(B>=N-1):\n",
    "                B=0\n",
    "            else:\n",
    "                B+=1"
   ]
  },
  {
   "cell_type": "code",
   "execution_count": null,
   "id": "4242587a",
   "metadata": {},
   "outputs": [],
   "source": [
    "print(MN)\n",
    "print(MN_)"
   ]
  }
 ],
 "metadata": {
  "kernelspec": {
   "display_name": "Python 3 (ipykernel)",
   "language": "python",
   "name": "python3"
  },
  "language_info": {
   "codemirror_mode": {
    "name": "ipython",
    "version": 3
   },
   "file_extension": ".py",
   "mimetype": "text/x-python",
   "name": "python",
   "nbconvert_exporter": "python",
   "pygments_lexer": "ipython3",
   "version": "3.9.5"
  }
 },
 "nbformat": 4,
 "nbformat_minor": 5
}
