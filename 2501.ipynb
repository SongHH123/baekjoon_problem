{
 "cells": [
  {
   "cell_type": "code",
   "execution_count": 47,
   "id": "658434f6",
   "metadata": {
    "scrolled": true
   },
   "outputs": [
    {
     "name": "stdout",
     "output_type": "stream",
     "text": [
      "120 16\n",
      "120\n"
     ]
    }
   ],
   "source": [
    "#약수 구하기\n",
    "N, M= map(int, input().split(' '))\n",
    "K=[]\n",
    "if(M==1):\n",
    "    print(1)\n",
    "else:\n",
    "    for i in range(1, N+1):\n",
    "        if(N%i==0):\n",
    "            K.append(i)\n",
    "    if(len(K)<M):\n",
    "        print(0)\n",
    "    else:\n",
    "        print(K[M-1])"
   ]
  },
  {
   "cell_type": "code",
   "execution_count": null,
   "id": "44b4284e",
   "metadata": {},
   "outputs": [],
   "source": []
  }
 ],
 "metadata": {
  "kernelspec": {
   "display_name": "Python 3 (ipykernel)",
   "language": "python",
   "name": "python3"
  },
  "language_info": {
   "codemirror_mode": {
    "name": "ipython",
    "version": 3
   },
   "file_extension": ".py",
   "mimetype": "text/x-python",
   "name": "python",
   "nbconvert_exporter": "python",
   "pygments_lexer": "ipython3",
   "version": "3.7.9"
  }
 },
 "nbformat": 4,
 "nbformat_minor": 5
}
