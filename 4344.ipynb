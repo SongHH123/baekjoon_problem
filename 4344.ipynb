{
 "cells": [
  {
   "cell_type": "code",
   "execution_count": null,
   "id": "658434f6",
   "metadata": {
    "scrolled": false
   },
   "outputs": [],
   "source": [
    "#평균은 넘겠지\n",
    "C = int(input())\n",
    "Rate = []\n",
    "\n",
    "for i in range(C):\n",
    "    Rate.append(0)\n",
    "    NG = input().split(' ')\n",
    "    NG = list(map(int, NG))\n",
    "    N = NG[0]\n",
    "    G = NG[1:]\n",
    "    Sum = 0\n",
    "    avg = sum(G)/N\n",
    "    for j in range(N):\n",
    "        if(G[j]>avg):\n",
    "            Rate[i] += 1\n",
    "    Rate[i] = round((Rate[i]/N)*100, 3)\n",
    "\n",
    "for i in range(len(Rate)):\n",
    "    a = Rate[i]\n",
    "    print(str(format(a, \".3f\"))+\"%\")"
   ]
  },
  {
   "cell_type": "code",
   "execution_count": 127,
   "id": "0c87ca5e",
   "metadata": {},
   "outputs": [
    {
     "name": "stdout",
     "output_type": "stream",
     "text": [
      "33.333\n"
     ]
    }
   ],
   "source": [
    "a = Rate[2] \n",
    "print(format(a, \".3f\"))"
   ]
  },
  {
   "cell_type": "code",
   "execution_count": 104,
   "id": "314146e6",
   "metadata": {},
   "outputs": [
    {
     "data": {
      "text/plain": [
       "95.88888888888889"
      ]
     },
     "execution_count": 104,
     "metadata": {},
     "output_type": "execute_result"
    }
   ],
   "source": [
    "sum(G)/N"
   ]
  },
  {
   "cell_type": "code",
   "execution_count": null,
   "id": "80374f35",
   "metadata": {},
   "outputs": [],
   "source": []
  }
 ],
 "metadata": {
  "kernelspec": {
   "display_name": "Python 3 (ipykernel)",
   "language": "python",
   "name": "python3"
  },
  "language_info": {
   "codemirror_mode": {
    "name": "ipython",
    "version": 3
   },
   "file_extension": ".py",
   "mimetype": "text/x-python",
   "name": "python",
   "nbconvert_exporter": "python",
   "pygments_lexer": "ipython3",
   "version": "3.7.9"
  }
 },
 "nbformat": 4,
 "nbformat_minor": 5
}
