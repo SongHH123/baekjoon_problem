{
 "cells": [
  {
   "cell_type": "code",
   "execution_count": null,
   "id": "658434f6",
   "metadata": {
    "scrolled": false
   },
   "outputs": [],
   "source": [
    "#평균은 넘겠지\n",
    "C = int(input())\n",
    "Rate = []\n",
    "\n",
    "for i in range(C):\n",
    "    Rate.append(0)\n",
    "    NG = input().split(' ')\n",
    "    NG = list(map(int, NG))\n",
    "    N = NG[0]\n",
    "    G = NG[1:]\n",
    "    Sum = 0\n",
    "    avg = sum(G)/N\n",
    "    for j in range(N):\n",
    "        if(G[j]>avg):\n",
    "            Rate[i] += 1\n",
    "    Rate[i] = round((Rate[i]/N)*100, 3)\n",
    "\n",
    "for i in range(len(Rate)):\n",
    "    a = Rate[i]\n",
    "    print(str(format(a, \".3f\"))+\"%\")"
   ]
  }
