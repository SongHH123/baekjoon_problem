{
 "cells": [
  {
   "cell_type": "code",
   "execution_count": 17,
   "id": "b4f500ce",
   "metadata": {
    "scrolled": true
   },
   "outputs": [
    {
     "name": "stdout",
     "output_type": "stream",
     "text": [
      "3\n",
      "5\n",
      "WBBWW\n",
      "WBWBW\n",
      "1\n",
      "7\n",
      "BBBBBBB\n",
      "BWBWBWB\n",
      "3\n",
      "4\n",
      "WWBB\n",
      "BBWB\n",
      "2\n"
     ]
    }
   ],
   "source": [
    "for _ in range(int(input())):\n",
    "    N=int(input())\n",
    "    F=input()\n",
    "    L=input()\n",
    "    s=['', 0, 0]\n",
    "    for i in range(N):\n",
    "        if(F[i]!=L[i]):\n",
    "            s[0]+=F[i]\n",
    "    s[1]=s[0].count(\"W\")\n",
    "    s[2]=s[0].count(\"B\")\n",
    "    s.pop(0)\n",
    "    print(max(s))"
   ]
  }
 ],
 "metadata": {
  "kernelspec": {
   "display_name": "Python 3 (ipykernel)",
   "language": "python",
   "name": "python3"
  },
  "language_info": {
   "codemirror_mode": {
    "name": "ipython",
    "version": 3
   },
   "file_extension": ".py",
   "mimetype": "text/x-python",
   "name": "python",
   "nbconvert_exporter": "python",
   "pygments_lexer": "ipython3",
   "version": "3.9.5"
  }
 },
 "nbformat": 4,
 "nbformat_minor": 5
}
