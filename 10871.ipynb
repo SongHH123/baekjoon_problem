{
 "cells": [
  {
   "cell_type": "code",
   "execution_count": 1,
   "id": "658434f6",
   "metadata": {
    "scrolled": false
   },
   "outputs": [
    {
     "name": "stdout",
     "output_type": "stream",
     "text": [
      "10 5\n",
      "1 10 4 9 2 3 8 5 7 6\n",
      "1 4 2 3 "
     ]
    }
   ],
   "source": [
    "One = input().split(' ')\n",
    "N = int(One[0]) \n",
    "X = int(One[1])\n",
    "A = input().split(' ')\n",
    "\n",
    "for i in range(N):\n",
    "    if(int(A[i])<X):\n",
    "        print(int(A[i]), end=' ')"
   ]
  },
  {
   "cell_type": "code",
   "execution_count": null,
   "id": "6c33afd9",
   "metadata": {},
   "outputs": [],
   "source": []
  }
 ],
 "metadata": {
  "kernelspec": {
   "display_name": "Python 3 (ipykernel)",
   "language": "python",
   "name": "python3"
  },
  "language_info": {
   "codemirror_mode": {
    "name": "ipython",
    "version": 3
   },
   "file_extension": ".py",
   "mimetype": "text/x-python",
   "name": "python",
   "nbconvert_exporter": "python",
   "pygments_lexer": "ipython3",
   "version": "3.7.9"
  }
 },
 "nbformat": 4,
 "nbformat_minor": 5
}
