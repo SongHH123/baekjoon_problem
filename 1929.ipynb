{
 "cells": [
  {
   "cell_type": "code",
   "execution_count": 150,
   "id": "c025191d",
   "metadata": {},
   "outputs": [
    {
     "name": "stdout",
     "output_type": "stream",
     "text": [
      "1 10\n",
      "2\n",
      "3\n",
      "5\n",
      "7\n"
     ]
    }
   ],
   "source": [
    "import math\n",
    "M, N = map(int, input().split())\n",
    "if(M==1):\n",
    "    M=2\n",
    "arr = list(range(M, N+1))\n",
    "del_arr=[]\n",
    "for i in range(2,int(math.sqrt(N))+1):\n",
    "    for j in range(len(arr)):\n",
    "        if (arr[j]%i == 0):\n",
    "            if(arr[j]/i == 1):\n",
    "                del_arr+=arr[j+i:: i]\n",
    "            else:\n",
    "                del_arr+=arr[j:: i]\n",
    "            break\n",
    "del_arr=set(del_arr)\n",
    "final_arr = [i for i in arr if i not in del_arr]\n",
    "\n",
    "for i in final_arr:\n",
    "    print(i)"
   ]
  },
  {
   "cell_type": "code",
   "execution_count": 118,
   "id": "2150baf3",
   "metadata": {},
   "outputs": [
    {
     "ename": "SyntaxError",
     "evalue": "invalid syntax (142409183.py, line 1)",
     "output_type": "error",
     "traceback": [
      "\u001b[1;36m  Cell \u001b[1;32mIn[118], line 1\u001b[1;36m\u001b[0m\n\u001b[1;33m    300 1\u001b[0m\n\u001b[1;37m        ^\u001b[0m\n\u001b[1;31mSyntaxError\u001b[0m\u001b[1;31m:\u001b[0m invalid syntax\n"
     ]
    }
   ],
   "source": [
    "300 1"
   ]
  },
  {
   "cell_type": "code",
   "execution_count": null,
   "id": "f51b7b83",
   "metadata": {},
   "outputs": [],
   "source": []
  }
 ],
 "metadata": {
  "kernelspec": {
   "display_name": "Python 3 (ipykernel)",
   "language": "python",
   "name": "python3"
  },
  "language_info": {
   "codemirror_mode": {
    "name": "ipython",
    "version": 3
   },
   "file_extension": ".py",
   "mimetype": "text/x-python",
   "name": "python",
   "nbconvert_exporter": "python",
   "pygments_lexer": "ipython3",
   "version": "3.9.5"
  }
 },
 "nbformat": 4,
 "nbformat_minor": 5
}
