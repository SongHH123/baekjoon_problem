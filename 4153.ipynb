{
 "cells": [
  {
   "cell_type": "code",
   "execution_count": 10,
   "id": "b4f500ce",
   "metadata": {
    "scrolled": true
   },
   "outputs": [
    {
     "name": "stdout",
     "output_type": "stream",
     "text": [
      "0 1 2\n",
      "wrog\n",
      "0 1 1\n",
      "wrog\n",
      "1 2 1\n",
      "wrog\n",
      "0 2 2\n",
      "wrog\n",
      "3 4 5\n",
      "right\n",
      "0 0 0\n"
     ]
    }
   ],
   "source": [
    "a,b,c = map(int, input().split())\n",
    "while(a!=0 or b!=0 or c!=0):\n",
    "    if(2*(max(a, b, c)**2)==(a**2+b**2+c**2) and a!=0 and b!=0 and c!=0):\n",
    "        print(\"right\")\n",
    "    else:\n",
    "        print(\"wrong\")\n",
    "    a,b,c = map(int, input().split())"
   ]
  },
  {
   "cell_type": "code",
   "execution_count": null,
   "id": "b5c2220f",
   "metadata": {},
   "outputs": [],
   "source": []
  }
 ],
 "metadata": {
  "kernelspec": {
   "display_name": "Python 3 (ipykernel)",
   "language": "python",
   "name": "python3"
  },
  "language_info": {
   "codemirror_mode": {
    "name": "ipython",
    "version": 3
   },
   "file_extension": ".py",
   "mimetype": "text/x-python",
   "name": "python",
   "nbconvert_exporter": "python",
   "pygments_lexer": "ipython3",
   "version": "3.9.5"
  }
 },
 "nbformat": 4,
 "nbformat_minor": 5
}
