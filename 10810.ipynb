{
 "cells": [
  {
   "cell_type": "code",
   "execution_count": 14,
   "id": "658434f6",
   "metadata": {
    "scrolled": false
   },
   "outputs": [
    {
     "name": "stdout",
     "output_type": "stream",
     "text": [
      "5 4\n",
      "1 2 3\n",
      "3 4 4\n",
      "1 4 1\n",
      "2 2 2\n",
      "1 2 1 1 0 "
     ]
    }
   ],
   "source": [
    "NM = input().split(' ')\n",
    "basket = []\n",
    "for i in range(int(NM[0])):\n",
    "    basket.append(0)\n",
    "\n",
    "for i in range(int(NM[1])):\n",
    "    Arr = input().split(' ')\n",
    "    Arr = list(map(int, Arr))\n",
    "    \n",
    "    for j in range(Arr[0], Arr[1]+1):\n",
    "        basket[j-1] = Arr[2]\n",
    "        \n",
    "for i in basket:\n",
    "    print(int(i), end=' ')"
   ]
  },
  {
   "cell_type": "code",
   "execution_count": null,
   "id": "1f0225fb",
   "metadata": {},
   "outputs": [],
   "source": []
  }
 ],
 "metadata": {
  "kernelspec": {
   "display_name": "Python 3 (ipykernel)",
   "language": "python",
   "name": "python3"
  },
  "language_info": {
   "codemirror_mode": {
    "name": "ipython",
    "version": 3
   },
   "file_extension": ".py",
   "mimetype": "text/x-python",
   "name": "python",
   "nbconvert_exporter": "python",
   "pygments_lexer": "ipython3",
   "version": "3.7.9"
  }
 },
 "nbformat": 4,
 "nbformat_minor": 5
}
