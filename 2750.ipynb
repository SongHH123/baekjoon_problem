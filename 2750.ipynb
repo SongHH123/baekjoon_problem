{
 "cells": [
  {
   "cell_type": "code",
   "execution_count": 33,
   "id": "b14ff257",
   "metadata": {
    "scrolled": true
   },
   "outputs": [
    {
     "name": "stdout",
     "output_type": "stream",
     "text": [
      "5\n",
      "6\n",
      "7\n",
      "8\n",
      "11\n",
      "12\n",
      "6\n",
      "7\n",
      "8\n",
      "11\n",
      "12\n"
     ]
    }
   ],
   "source": [
    "N=int(input())\n",
    "S = []\n",
    "for i in range(N):\n",
    "    S.append(int(input()))\n",
    "    \n",
    "S.sort()\n",
    "for i in range(N):\n",
    "    print(S[i])"
   ]
  }
 ],
 "metadata": {
  "kernelspec": {
   "display_name": "Python 3 (ipykernel)",
   "language": "python",
   "name": "python3"
  },
  "language_info": {
   "codemirror_mode": {
    "name": "ipython",
    "version": 3
   },
   "file_extension": ".py",
   "mimetype": "text/x-python",
   "name": "python",
   "nbconvert_exporter": "python",
   "pygments_lexer": "ipython3",
   "version": "3.9.5"
  }
 },
 "nbformat": 4,
 "nbformat_minor": 5
}
