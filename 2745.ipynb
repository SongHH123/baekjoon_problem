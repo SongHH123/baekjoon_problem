{
 "cells": [
  {
   "cell_type": "code",
   "execution_count": 45,
   "id": "7d46b716",
   "metadata": {
    "scrolled": true
   },
   "outputs": [
    {
     "name": "stdout",
     "output_type": "stream",
     "text": [
      "A1 16\n",
      "161\n"
     ]
    }
   ],
   "source": [
    "NB = input().split(' ')\n",
    "N = NB[0]\n",
    "B = int(NB[1])\n",
    "if(B>10):\n",
    "    A=10\n",
    "num = 0\n",
    "\n",
    "for i in range(len(N)-1):\n",
    "    if(ord(N[i])>64):\n",
    "        num += (ord(N[i])-65 + A)*(B**(len(N)-i-1))\n",
    "    else :\n",
    "        num += int(N[i])*(B**(len(N)-i-1))\n",
    "if(ord(N[-1])>64):\n",
    "        num += (ord(N[-1])-65 + A)\n",
    "else :\n",
    "    num += int(N[-1])\n",
    "\n",
    "print(num)"
   ]
  }
 ],
 "metadata": {
  "kernelspec": {
   "display_name": "Python 3 (ipykernel)",
   "language": "python",
   "name": "python3"
  },
  "language_info": {
   "codemirror_mode": {
    "name": "ipython",
    "version": 3
   },
   "file_extension": ".py",
   "mimetype": "text/x-python",
   "name": "python",
   "nbconvert_exporter": "python",
   "pygments_lexer": "ipython3",
   "version": "3.9.5"
  }
 },
 "nbformat": 4,
 "nbformat_minor": 5
}
