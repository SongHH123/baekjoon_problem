{
 "cells": [
  {
   "cell_type": "code",
   "execution_count": 20,
   "id": "b4f500ce",
   "metadata": {
    "scrolled": true
   },
   "outputs": [
    {
     "name": "stdout",
     "output_type": "stream",
     "text": [
      "3\n",
      "2\n",
      "1\n",
      "0\n",
      "2\n"
     ]
    }
   ],
   "source": [
    "import math\n",
    "K = int(input())\n",
    "S = []\n",
    "for i in range(math.floor(K/2)):\n",
    "    N1 = int(input())\n",
    "    N2 = int(input())\n",
    "    \n",
    "    if(N1==0):\n",
    "        S.pop()\n",
    "        if(N2==0):\n",
    "            S.pop()\n",
    "        else:\n",
    "            S.append(N2)\n",
    "    elif(N2==0):\n",
    "        pass\n",
    "    else:\n",
    "        S.append(N1)\n",
    "        S.append(N2)\n",
    "if(K%2==1):\n",
    "    N = int(input())\n",
    "    if(N==0):\n",
    "        S.pop()\n",
    "    else:\n",
    "        S.append(N)\n",
    "        \n",
    "print(sum(S))"
   ]
  }
 ],
 "metadata": {
  "kernelspec": {
   "display_name": "Python 3 (ipykernel)",
   "language": "python",
   "name": "python3"
  },
  "language_info": {
   "codemirror_mode": {
    "name": "ipython",
    "version": 3
   },
   "file_extension": ".py",
   "mimetype": "text/x-python",
   "name": "python",
   "nbconvert_exporter": "python",
   "pygments_lexer": "ipython3",
   "version": "3.9.5"
  }
 },
 "nbformat": 4,
 "nbformat_minor": 5
}
