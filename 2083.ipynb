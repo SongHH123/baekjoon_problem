{
 "cells": [
  {
   "cell_type": "code",
   "execution_count": 35,
   "id": "b4f500ce",
   "metadata": {
    "scrolled": false
   },
   "outputs": [
    {
     "name": "stdout",
     "output_type": "stream",
     "text": [
      "Joe 16 34\n",
      "Joe Junior\n",
      "Bill 18 65\n",
      "Bill Senior\n",
      "Billy 17 65\n",
      "Billy Junior\n",
      "Sam 17 85\n",
      "Sam Senior\n",
      "# 0 0\n"
     ]
    }
   ],
   "source": [
    "n, a, h = map(str, input().split())\n",
    "while(n!='#' or a!='0' or h!='0'):\n",
    "    if(int(a)>17 or int(h)>=80):\n",
    "        print(n+' Senior')\n",
    "    else:\n",
    "        print(n+' Junior')\n",
    "    n, a, h = map(str, input().split())"
   ]
  }
 ],
 "metadata": {
  "kernelspec": {
   "display_name": "Python 3 (ipykernel)",
   "language": "python",
   "name": "python3"
  },
  "language_info": {
   "codemirror_mode": {
    "name": "ipython",
    "version": 3
   },
   "file_extension": ".py",
   "mimetype": "text/x-python",
   "name": "python",
   "nbconvert_exporter": "python",
   "pygments_lexer": "ipython3",
   "version": "3.9.5"
  }
 },
 "nbformat": 4,
 "nbformat_minor": 5
}
