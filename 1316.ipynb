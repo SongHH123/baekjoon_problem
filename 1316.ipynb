{
 "cells": [
  {
   "cell_type": "code",
   "execution_count": null,
   "id": "658434f6",
   "metadata": {
    "scrolled": true
   },
   "outputs": [
    {
     "name": "stdout",
     "output_type": "stream",
     "text": [
      "10\n",
      "abbaaaaaaaaaaaaaaaabaaaaaaabb\n",
      "0\n",
      "zyzyzyzyz\n",
      "0\n",
      "zzzz\n",
      "1\n",
      "dddddddd\n",
      "2\n",
      "abc\n",
      "3\n",
      "aaaabab\n",
      "3\n"
     ]
    }
   ],
   "source": [
    "#그룹 단어 체커\n",
    "N = int(input())\n",
    "checker=0\n",
    "\n",
    "for i in range(N):\n",
    "    word_N = []\n",
    "    word = input()\n",
    "    if(len(word)==1):\n",
    "        checker+=1\n",
    "    else:\n",
    "        for j in range(len(word)):\n",
    "            if(j == len(word)-1 and (word_N[-1] == word[j] or word[j] not in word_N)):\n",
    "                checker+=1\n",
    "            elif (word[j] not in word_N):\n",
    "                word_N.append(word[j])\n",
    "            elif(word_N[-1] == word[j]) :\n",
    "                next\n",
    "            else:\n",
    "                break\n",
    "                \n",
    "print(checker)"
   ]
  },
  {
   "cell_type": "code",
   "execution_count": null,
   "id": "a79918bc",
   "metadata": {},
   "outputs": [],
   "source": []
  },
  {
   "cell_type": "code",
   "execution_count": null,
   "id": "d9adc6e2",
   "metadata": {},
   "outputs": [],
   "source": []
  },
  {
   "cell_type": "code",
   "execution_count": null,
   "id": "db6c0f1d",
   "metadata": {},
   "outputs": [],
   "source": []
  },
  {
   "cell_type": "code",
   "execution_count": 37,
   "id": "bd41d19b",
   "metadata": {},
   "outputs": [
    {
     "name": "stdout",
     "output_type": "stream",
     "text": [
      "['b']\n",
      "bb\n"
     ]
    }
   ],
   "source": [
    "print(word_N)\n",
    "print(word)"
   ]
  },
  {
   "cell_type": "code",
   "execution_count": null,
   "id": "27512baf",
   "metadata": {},
   "outputs": [],
   "source": []
  }
 ],
 "metadata": {
  "kernelspec": {
   "display_name": "Python 3 (ipykernel)",
   "language": "python",
   "name": "python3"
  },
  "language_info": {
   "codemirror_mode": {
    "name": "ipython",
    "version": 3
   },
   "file_extension": ".py",
   "mimetype": "text/x-python",
   "name": "python",
   "nbconvert_exporter": "python",
   "pygments_lexer": "ipython3",
   "version": "3.7.9"
  }
 },
 "nbformat": 4,
 "nbformat_minor": 5
}
