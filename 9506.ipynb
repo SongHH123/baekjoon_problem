{
 "cells": [
  {
   "cell_type": "code",
   "execution_count": 53,
   "id": "658434f6",
   "metadata": {
    "scrolled": true
   },
   "outputs": [
    {
     "name": "stdout",
     "output_type": "stream",
     "text": [
      "6\n",
      "6 = 1 + 2 + 3\n",
      "12\n",
      "12 is Not perfect.\n",
      "28\n",
      "28 = 1 + 2 + 4 + 7 + 14\n",
      "-1\n"
     ]
    }
   ],
   "source": [
    "#약수들의 합\n",
    "while True:\n",
    "    K=[]\n",
    "    N=int(input())\n",
    "    if(N==-1):\n",
    "        break\n",
    "    for i in range(1, N):\n",
    "        if(N%i==0):\n",
    "            K.append(i)\n",
    "    if(N==sum(K)):\n",
    "        print(str(N)+\" = \", end='')\n",
    "        for i in range(len(K)-1):\n",
    "            print(str(K[i])+\" + \", end='')\n",
    "        print(K[-1])\n",
    "    else:\n",
    "        print(str(N)+\" is NOT perfect.\")"
   ]
  }
 ],
 "metadata": {
  "kernelspec": {
   "display_name": "Python 3 (ipykernel)",
   "language": "python",
   "name": "python3"
  },
  "language_info": {
   "codemirror_mode": {
    "name": "ipython",
    "version": 3
   },
   "file_extension": ".py",
   "mimetype": "text/x-python",
   "name": "python",
   "nbconvert_exporter": "python",
   "pygments_lexer": "ipython3",
   "version": "3.7.9"
  }
 },
 "nbformat": 4,
 "nbformat_minor": 5
}
