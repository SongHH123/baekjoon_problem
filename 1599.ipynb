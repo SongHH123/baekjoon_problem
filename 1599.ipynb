{
 "cells": [
  {
   "cell_type": "code",
   "execution_count": 1,
   "id": "b4f500ce",
   "metadata": {
    "scrolled": true
   },
   "outputs": [
    {
     "name": "stdout",
     "output_type": "stream",
     "text": [
      "4\n",
      "abakada\n",
      "alpabet\n",
      "tagalog\n",
      "ako\n",
      "abakada\n",
      "ako\n",
      "alpabet\n",
      "tagalog\n"
     ]
    }
   ],
   "source": [
    "M = [0,'a','b','k','d','e','g','h','i','l','m','n','ng','o','p','r','s','t','u','w','y']\n",
    "D = {}\n",
    "m=[]\n",
    "leng=[]\n",
    "N = int(input())\n",
    "\n",
    "for i in range(N):\n",
    "    a = input()\n",
    "    m.append(a)\n",
    "    leng.append(len(a))\n",
    "    \n",
    "for v in m:\n",
    "    k=''\n",
    "    for j in range(len(v)):\n",
    "        if(v[j]=='n' and (j+1)!=len(v)):\n",
    "            if(v[j+1]=='g'):\n",
    "                k+='12'\n",
    "                v.replace('g', '', 1)\n",
    "            else:\n",
    "                k+='11'\n",
    "        else:\n",
    "            k+='{0:0>2}'.format(str(M.index(v[j])))\n",
    "    l = '{0:0<'+str(max(leng)*2)+'}'\n",
    "    D[v] = l.format(k)\n",
    "    \n",
    "D_s = sorted(D.values())\n",
    "D = {v:k for k,v in D.items()}\n",
    "\n",
    "for sort in D_s:\n",
    "    print(D[sort])"
   ]
  }
 ],
 "metadata": {
  "kernelspec": {
   "display_name": "Python 3 (ipykernel)",
   "language": "python",
   "name": "python3"
  },
  "language_info": {
   "codemirror_mode": {
    "name": "ipython",
    "version": 3
   },
   "file_extension": ".py",
   "mimetype": "text/x-python",
   "name": "python",
   "nbconvert_exporter": "python",
   "pygments_lexer": "ipython3",
   "version": "3.9.5"
  }
 },
 "nbformat": 4,
 "nbformat_minor": 5
}
