{
 "cells": [
  {
   "cell_type": "code",
   "execution_count": null,
   "id": "658434f6",
   "metadata": {
    "scrolled": true
   },
   "outputs": [],
   "source": [
    "#인사성 밝은 곰곰이\n",
    "N = int(input())\n",
    "n =[[]]\n",
    "hi=0\n",
    "a=0\n",
    "n[0].append(input())\n",
    "for i in range(N-1):\n",
    "    new = input()\n",
    "    if n[0][0] != new:\n",
    "        n[a].append(new)\n",
    "    else:\n",
    "        n.append([new])\n",
    "        a+=1\n",
    "        \n",
    "for i in range(len(n)):\n",
    "    hi+=len(set(n[i]))-1\n",
    "print(hi)"
   ]
  },
  {
   "cell_type": "code",
   "execution_count": 28,
   "id": "a9cd0dfe",
   "metadata": {},
   "outputs": [
    {
     "data": {
      "text/plain": [
       "[['ENTER', 'p', 'c', 'cho'], 'ENTER']"
      ]
     },
     "execution_count": 28,
     "metadata": {},
     "output_type": "execute_result"
    }
   ],
   "source": [
    "n"
   ]
  },
  {
   "cell_type": "markdown",
   "id": "04dfbe05",
   "metadata": {},
   "source": [
    "#### "
   ]
  },
  {
   "cell_type": "code",
   "execution_count": null,
   "id": "7d46b716",
   "metadata": {},
   "outputs": [],
   "source": []
  }
 ],
 "metadata": {
  "kernelspec": {
   "display_name": "Python 3 (ipykernel)",
   "language": "python",
   "name": "python3"
  },
  "language_info": {
   "codemirror_mode": {
    "name": "ipython",
    "version": 3
   },
   "file_extension": ".py",
   "mimetype": "text/x-python",
   "name": "python",
   "nbconvert_exporter": "python",
   "pygments_lexer": "ipython3",
   "version": "3.7.9"
  }
 },
 "nbformat": 4,
 "nbformat_minor": 5
}
