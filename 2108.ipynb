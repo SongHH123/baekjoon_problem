{
 "cells": [
  {
   "cell_type": "code",
   "execution_count": 6,
   "id": "b4f500ce",
   "metadata": {
    "scrolled": false
   },
   "outputs": [
    {
     "name": "stdout",
     "output_type": "stream",
     "text": [
      "5\n",
      "-1\n",
      "-2\n",
      "-3\n",
      "-1\n",
      "-2\n",
      "-2\n",
      "-2\n",
      "-1\n",
      "2\n"
     ]
    }
   ],
   "source": [
    "import sys\n",
    "N = int(sys.stdin.readline())\n",
    "a = []\n",
    "p3 = []\n",
    "dic = {}\n",
    "for i in range(N):\n",
    "    a.append(int(sys.stdin.readline()))\n",
    "a.sort()\n",
    "print(round(sum(a)/N))\n",
    "print(a[int(N/2)])\n",
    "\n",
    "for i in a:\n",
    "    try:\n",
    "        dic[i] += 1\n",
    "    except KeyError:\n",
    "        dic[i] = 1\n",
    "    \n",
    "dic_max=max(dic.values())\n",
    "for i in dic:\n",
    "    if(dic[i]==dic_max):\n",
    "        p3.append(i)\n",
    "if(len(p3)==1):\n",
    "    print(p3[0])\n",
    "else:\n",
    "    print(p3[1])\n",
    "print(a[N-1]-a[0])"
   ]
  }
 ],
 "metadata": {
  "kernelspec": {
   "display_name": "Python 3 (ipykernel)",
   "language": "python",
   "name": "python3"
  },
  "language_info": {
   "codemirror_mode": {
    "name": "ipython",
    "version": 3
   },
   "file_extension": ".py",
   "mimetype": "text/x-python",
   "name": "python",
   "nbconvert_exporter": "python",
   "pygments_lexer": "ipython3",
   "version": "3.9.5"
  }
 },
 "nbformat": 4,
 "nbformat_minor": 5
}
