{
 "cells": [
  {
   "cell_type": "code",
   "execution_count": 18,
   "id": "b4f500ce",
   "metadata": {
    "scrolled": false
   },
   "outputs": [
    {
     "name": "stdout",
     "output_type": "stream",
     "text": [
      "NLCS\n",
      "North London Collegiate School\n"
     ]
    }
   ],
   "source": [
    "dic = {}\n",
    "dic['NLCS']='North London Collegiate School'\n",
    "dic['BHA']='Branksome Hall Asia'\n",
    "dic['KIS']='Korea International School'\n",
    "dic['SJA']='St. Johnsbury Academy'\n",
    "S = input()\n",
    "print(dic[S])"
   ]
  }
 ],
 "metadata": {
  "kernelspec": {
   "display_name": "Python 3 (ipykernel)",
   "language": "python",
   "name": "python3"
  },
  "language_info": {
   "codemirror_mode": {
    "name": "ipython",
    "version": 3
   },
   "file_extension": ".py",
   "mimetype": "text/x-python",
   "name": "python",
   "nbconvert_exporter": "python",
   "pygments_lexer": "ipython3",
   "version": "3.9.5"
  }
 },
 "nbformat": 4,
 "nbformat_minor": 5
}
