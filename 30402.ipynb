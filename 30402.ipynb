{
 "cells": [
  {
   "cell_type": "code",
   "execution_count": 3,
   "id": "b4f500ce",
   "metadata": {},
   "outputs": [
    {
     "name": "stdout",
     "output_type": "stream",
     "text": [
      "p o o y r y p o y r p r r o p y w w y w r w y w p w w w r y r w y r w r w w w y r p w w o r p w w w w w y w w o w o r w y w w w r o p w o r r w p p w y y w w w o w p o w r p p o o p w p w p y o p w w w w p y w y w y o w o w o o o w o w w p y o w w y w w w r w o p w w p p w p y w w o w o r w w p r y p p w w w w y r w w w y y o w p w p w w w w o o p o w p w p y p o y w p w w w w w w r w p p y r w w w w w o w w p o y w o r w w y y y w w o o y y r w\n",
      "\n",
      "\n",
      "\n",
      "\n",
      "\n",
      "\n",
      "\n",
      "\n",
      "\n",
      "\n",
      "\n",
      "\n",
      "\n",
      "\n",
      "chunbae\n"
     ]
    }
   ],
   "source": [
    "p = []\n",
    "for i in range(15):\n",
    "    p+=input().split()\n",
    "i=0\n",
    "while(p[i]=='r' or p[i]=='o' or p[i]=='y' or p[i]=='p'):\n",
    "    i+=1\n",
    "    \n",
    "if(p[i]=='w'):\n",
    "    print('chunbae')\n",
    "elif(p[i]=='b'):\n",
    "    print('nabi')\n",
    "else:\n",
    "    print('yeongcheol')"
   ]
  }
 ],
 "metadata": {
  "kernelspec": {
   "display_name": "Python 3 (ipykernel)",
   "language": "python",
   "name": "python3"
  },
  "language_info": {
   "codemirror_mode": {
    "name": "ipython",
    "version": 3
   },
   "file_extension": ".py",
   "mimetype": "text/x-python",
   "name": "python",
   "nbconvert_exporter": "python",
   "pygments_lexer": "ipython3",
   "version": "3.9.5"
  }
 },
 "nbformat": 4,
 "nbformat_minor": 5
}
