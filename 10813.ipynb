{
 "cells": [
  {
   "cell_type": "code",
   "execution_count": 35,
   "id": "658434f6",
   "metadata": {
    "scrolled": true
   },
   "outputs": [
    {
     "name": "stdout",
     "output_type": "stream",
     "text": [
      "5 4\n",
      "1 2\n",
      "3 4\n",
      "1 4\n",
      "2 2\n",
      "3 1 4 2 5 "
     ]
    }
   ],
   "source": [
    "NM = input().split(' ')\n",
    "basket = []\n",
    "for i in range(int(NM[0])):\n",
    "    basket.append(i+1)\n",
    "    \n",
    "for i in range(int(NM[1])):\n",
    "    Ball = input().split(' ')\n",
    "    Ball[0] = int(Ball[0])-1\n",
    "    Ball[1] = int(Ball[1])-1\n",
    "    dump = basket[Ball[0]]\n",
    "    basket[Ball[0]] = basket[Ball[1]]\n",
    "    basket[Ball[1]] = dump\n",
    "    \n",
    "for j in basket:\n",
    "    print(j, end=' ')"
   ]
  }
 ],
 "metadata": {
  "kernelspec": {
   "display_name": "Python 3 (ipykernel)",
   "language": "python",
   "name": "python3"
  },
  "language_info": {
   "codemirror_mode": {
    "name": "ipython",
    "version": 3
   },
   "file_extension": ".py",
   "mimetype": "text/x-python",
   "name": "python",
   "nbconvert_exporter": "python",
   "pygments_lexer": "ipython3",
   "version": "3.7.9"
  }
 },
 "nbformat": 4,
 "nbformat_minor": 5
}
