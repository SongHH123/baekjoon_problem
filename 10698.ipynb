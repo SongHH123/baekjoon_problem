{
 "cells": [
  {
   "cell_type": "code",
   "execution_count": 45,
   "id": "b4f500ce",
   "metadata": {
    "scrolled": true
   },
   "outputs": [
    {
     "name": "stdout",
     "output_type": "stream",
     "text": [
      "4\n",
      "1 + 23 = 22\n",
      "Case 1: NO\n",
      "1 + 22 = 23\n",
      "Case 2: YES\n",
      "1 + 22 = 23\n",
      "Case 3: YES\n",
      "23 - 1 = 22\n",
      "Case 4: YES\n"
     ]
    }
   ],
   "source": [
    "for _ in range(int(input())):\n",
    "    s = input().split()\n",
    "    if(eval(s[0]+s[1]+s[2])==int(s[4])):\n",
    "        print('Case '+str(_+1)+': YES')\n",
    "    else:\n",
    "        print('Case '+str(_+1)+': NO')"
   ]
  }
 ],
 "metadata": {
  "kernelspec": {
   "display_name": "Python 3 (ipykernel)",
   "language": "python",
   "name": "python3"
  },
  "language_info": {
   "codemirror_mode": {
    "name": "ipython",
    "version": 3
   },
   "file_extension": ".py",
   "mimetype": "text/x-python",
   "name": "python",
   "nbconvert_exporter": "python",
   "pygments_lexer": "ipython3",
   "version": "3.9.5"
  }
 },
 "nbformat": 4,
 "nbformat_minor": 5
}
