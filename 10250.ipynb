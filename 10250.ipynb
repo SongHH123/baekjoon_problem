{
 "cells": [
  {
   "cell_type": "code",
   "execution_count": 26,
   "id": "b4f500ce",
   "metadata": {
    "scrolled": true
   },
   "outputs": [
    {
     "name": "stdout",
     "output_type": "stream",
     "text": [
      "6\n",
      "6 6 6\n",
      "601\n",
      "6 6 12\n",
      "602\n",
      "6 12 10\n",
      "402\n",
      "30 50 72\n",
      "1203\n",
      "1 1 1\n",
      "101\n",
      "1 10 10\n",
      "110\n"
     ]
    }
   ],
   "source": [
    "T = int(input())\n",
    "for i in range(T):\n",
    "    H, W, N = map(int,input().split())\n",
    "    if(N%H==0):\n",
    "        print(str(H)+str(int(N/H)).zfill(2))\n",
    "    else:\n",
    "        print(str(N%H)+str(int(N/H)+1).zfill(2))"
   ]
  }
 ],
 "metadata": {
  "kernelspec": {
   "display_name": "Python 3 (ipykernel)",
   "language": "python",
   "name": "python3"
  },
  "language_info": {
   "codemirror_mode": {
    "name": "ipython",
    "version": 3
   },
   "file_extension": ".py",
   "mimetype": "text/x-python",
   "name": "python",
   "nbconvert_exporter": "python",
   "pygments_lexer": "ipython3",
   "version": "3.9.5"
  }
 },
 "nbformat": 4,
 "nbformat_minor": 5
}
