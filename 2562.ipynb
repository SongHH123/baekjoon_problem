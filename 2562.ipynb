{
 "cells": [
  {
   "cell_type": "code",
   "execution_count": 23,
   "id": "658434f6",
   "metadata": {
    "scrolled": false
   },
   "outputs": [
    {
     "name": "stdout",
     "output_type": "stream",
     "text": [
      "3\n",
      "['3']\n",
      "29\n",
      "['3', '29']\n",
      "38\n",
      "['3', '29', '38']\n",
      "12\n",
      "['3', '29', '38', '12']\n",
      "57\n",
      "['3', '29', '38', '12', '57']\n",
      "74\n",
      "['3', '29', '38', '12', '57', '74']\n",
      "40\n",
      "['3', '29', '38', '12', '57', '74', '40']\n",
      "85\n",
      "['3', '29', '38', '12', '57', '74', '40', '85']\n",
      "61\n",
      "['3', '29', '38', '12', '57', '74', '40', '85', '61']\n",
      "85\n",
      "8\n"
     ]
    }
   ],
   "source": [
    "list_nine = []\n",
    "\n",
    "for i in range(9):\n",
    "    n = input()\n",
    "    list_nine.append(n)\n",
    "\n",
    "print(max(list_nine))\n",
    "print(list_nine.index(max(list_nine))+1)"
   ]
  },
  {
   "cell_type": "markdown",
   "id": "aff791b8",
   "metadata": {},
   "source": []
  }
 ],
 "metadata": {
  "kernelspec": {
   "display_name": "Python 3 (ipykernel)",
   "language": "python",
   "name": "python3"
  },
  "language_info": {
   "codemirror_mode": {
    "name": "ipython",
    "version": 3
   },
   "file_extension": ".py",
   "mimetype": "text/x-python",
   "name": "python",
   "nbconvert_exporter": "python",
   "pygments_lexer": "ipython3",
   "version": "3.7.9"
  }
 },
 "nbformat": 4,
 "nbformat_minor": 5
}
