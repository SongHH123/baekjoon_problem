{
 "cells": [
  {
   "cell_type": "code",
   "execution_count": 27,
   "id": "ab3cd43b",
   "metadata": {},
   "outputs": [
    {
     "name": "stdout",
     "output_type": "stream",
     "text": [
      "5\n",
      "ChongChong a\n",
      "ChongChong b\n",
      "a b\n",
      "a b\n",
      "a e\n",
      "4\n"
     ]
    }
   ],
   "source": [
    "a = int(input())\n",
    "dance = ['ChongChong']\n",
    "for i in range(a):\n",
    "    meet = input().split(' ')\n",
    "    if meet[0] in dance:\n",
    "        dance.append(meet[1])\n",
    "    elif meet[1] in dance:\n",
    "        dance.append(meet[0])\n",
    "dance = set(dance)\n",
    "print(len(dance))"
   ]
  }
 ],
 "metadata": {
  "kernelspec": {
   "display_name": "Python 3 (ipykernel)",
   "language": "python",
   "name": "python3"
  },
  "language_info": {
   "codemirror_mode": {
    "name": "ipython",
    "version": 3
   },
   "file_extension": ".py",
   "mimetype": "text/x-python",
   "name": "python",
   "nbconvert_exporter": "python",
   "pygments_lexer": "ipython3",
   "version": "3.9.5"
  }
 },
 "nbformat": 4,
 "nbformat_minor": 5
}
