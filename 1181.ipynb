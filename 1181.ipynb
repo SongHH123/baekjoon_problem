{
 "cells": [
  {
   "cell_type": "code",
   "execution_count": null,
   "id": "26f4cf86",
   "metadata": {},
   "outputs": [],
   "source": []
  },
  {
   "cell_type": "code",
   "execution_count": 93,
   "id": "b4f500ce",
   "metadata": {
    "scrolled": false
   },
   "outputs": [
    {
     "name": "stdout",
     "output_type": "stream",
     "text": [
      "10\n",
      "but\n",
      "i\n",
      "wont\n",
      "hesitate\n",
      "no\n",
      "more\n",
      "no\n",
      "more\n",
      "it\n",
      "cannot\n",
      "i\n",
      "it\n",
      "no\n",
      "but\n",
      "more\n",
      "wont\n",
      "cannot\n",
      "hesitate\n"
     ]
    }
   ],
   "source": [
    "i = int(input())\n",
    "alphabet = ['a', 'b', 'c', 'd', 'e', 'f', 'g', 'h', 'i', 'j', 'k', 'l', 'm', 'n', 'o', 'p', 'q', 'r', 's', 't', 'u', 'v', 'w', 'x', 'y', 'z']\n",
    "dic = {}\n",
    "for j in range(i):\n",
    "    m = input()\n",
    "    if(m not in dic):\n",
    "        v=''\n",
    "        for a in range(len(m)):\n",
    "            v += str(10+alphabet.index(m[a]))\n",
    "        dic[m] = int(v)\n",
    "dic = sorted(dic.items(), key=lambda x:x[1]) \n",
    "for i in dic:\n",
    "    print(i[0])"
   ]
  },
  {
   "cell_type": "code",
   "execution_count": 83,
   "id": "d73c2da3",
   "metadata": {},
   "outputs": [
    {
     "ename": "NameError",
     "evalue": "name 'but' is not defined",
     "output_type": "error",
     "traceback": [
      "\u001b[1;31m---------------------------------------------------------------------------\u001b[0m",
      "\u001b[1;31mNameError\u001b[0m                                 Traceback (most recent call last)",
      "Cell \u001b[1;32mIn[83], line 2\u001b[0m\n\u001b[0;32m      1\u001b[0m \u001b[38;5;241m13\u001b[39m\n\u001b[1;32m----> 2\u001b[0m \u001b[43mbut\u001b[49m\n\u001b[0;32m      3\u001b[0m i\n\u001b[0;32m      4\u001b[0m wont\n",
      "\u001b[1;31mNameError\u001b[0m: name 'but' is not defined"
     ]
    }
   ],
   "source": [
    "13\n",
    "but\n",
    "i\n",
    "wont\n",
    "hesitate\n",
    "no\n",
    "more\n",
    "no\n",
    "more\n",
    "it\n",
    "cannot\n",
    "wait\n",
    "im\n",
    "yours"
   ]
  },
  {
   "cell_type": "code",
   "execution_count": 94,
   "id": "2f392778",
   "metadata": {},
   "outputs": [
    {
     "data": {
      "text/plain": [
       "[('i', 18),\n",
       " ('it', 1829),\n",
       " ('no', 2324),\n",
       " ('but', 113029),\n",
       " ('more', 22242714),\n",
       " ('wont', 32242329),\n",
       " ('cannot', 121023232429),\n",
       " ('hesitate', 1714281829102914)]"
      ]
     },
     "execution_count": 94,
     "metadata": {},
     "output_type": "execute_result"
    }
   ],
   "source": [
    "dic"
   ]
  },
  {
   "cell_type": "code",
   "execution_count": null,
   "id": "c81272ef",
   "metadata": {},
   "outputs": [],
   "source": []
  }
 ],
 "metadata": {
  "kernelspec": {
   "display_name": "Python 3 (ipykernel)",
   "language": "python",
   "name": "python3"
  },
  "language_info": {
   "codemirror_mode": {
    "name": "ipython",
    "version": 3
   },
   "file_extension": ".py",
   "mimetype": "text/x-python",
   "name": "python",
   "nbconvert_exporter": "python",
   "pygments_lexer": "ipython3",
   "version": "3.9.5"
  }
 },
 "nbformat": 4,
 "nbformat_minor": 5
}
