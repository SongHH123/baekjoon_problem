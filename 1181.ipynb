{
 "cells": [
  {
   "cell_type": "code",
   "execution_count": 71,
   "id": "b4f500ce",
   "metadata": {
    "scrolled": false
   },
   "outputs": [
    {
     "name": "stdout",
     "output_type": "stream",
     "text": [
      "13\n",
      "hello\n",
      "i\n",
      "im\n",
      "am\n",
      "yours\n",
      "song\n",
      "hello\n",
      "me\n",
      "no\n",
      "more\n",
      "no\n",
      "more\n",
      "finish\n",
      "i\n",
      "am\n",
      "im\n",
      "me\n",
      "no\n",
      "more\n",
      "song\n",
      "hello\n",
      "yours\n",
      "finish\n"
     ]
    }
   ],
   "source": [
    "i = int(input())\n",
    "alphabet = ['a', 'b', 'c', 'd', 'e', 'f', 'g', 'h', 'i', 'j', 'k', 'l', 'm', 'n', 'o', 'p', 'q', 'r', 's', 't', 'u', 'v', 'w', 'x', 'y', 'z']\n",
    "dic = {}\n",
    "for j in range(i):\n",
    "    m = input()\n",
    "    if(m not in dic):\n",
    "        v=''\n",
    "        for a in range(len(m)):\n",
    "            v += str(10+alphabet.index(m[a]))\n",
    "        dic[m] = int(v)\n",
    "dic = sorted(dic.items(), key=lambda x:x[1]) \n",
    "for i in dic:\n",
    "    print(i[0])"
   ]
  }
 ],
 "metadata": {
  "kernelspec": {
   "display_name": "Python 3 (ipykernel)",
   "language": "python",
   "name": "python3"
  },
  "language_info": {
   "codemirror_mode": {
    "name": "ipython",
    "version": 3
   },
   "file_extension": ".py",
   "mimetype": "text/x-python",
   "name": "python",
   "nbconvert_exporter": "python",
   "pygments_lexer": "ipython3",
   "version": "3.9.5"
  }
 },
 "nbformat": 4,
 "nbformat_minor": 5
}
