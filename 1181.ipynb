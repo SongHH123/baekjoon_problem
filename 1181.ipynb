{
 "cells": [
  {
   "cell_type": "code",
   "execution_count": 70,
   "id": "b4f500ce",
   "metadata": {
    "scrolled": false
   },
   "outputs": [
    {
     "name": "stdout",
     "output_type": "stream",
     "text": [
      "12\n",
      "no\n",
      "12\n",
      "no\n",
      "13\n",
      "no\n",
      "10\n",
      "no\n",
      "010\n",
      "no\n",
      "00000\n"
     ]
    }
   ],
   "source": [
    "import math\n",
    "while(True):\n",
    "    i = str(int(input()))\n",
    "    if(i=='0'):\n",
    "        break\n",
    "    for j in range(math.floor(len(i)/2)):\n",
    "        if(i[j]!=i[-(j+1)]):\n",
    "            j=-1\n",
    "            break\n",
    "\n",
    "    if(j == int(len(i)/2)-1 or len(i)==1):\n",
    "        print('yes')\n",
    "    else:\n",
    "        print('no')"
   ]
  }
 ],
 "metadata": {
  "kernelspec": {
   "display_name": "Python 3 (ipykernel)",
   "language": "python",
   "name": "python3"
  },
  "language_info": {
   "codemirror_mode": {
    "name": "ipython",
    "version": 3
   },
   "file_extension": ".py",
   "mimetype": "text/x-python",
   "name": "python",
   "nbconvert_exporter": "python",
   "pygments_lexer": "ipython3",
   "version": "3.9.5"
  }
 },
 "nbformat": 4,
 "nbformat_minor": 5
}
