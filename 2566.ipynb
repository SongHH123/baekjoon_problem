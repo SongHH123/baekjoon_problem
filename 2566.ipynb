{
 "cells": [
  {
   "cell_type": "code",
   "execution_count": null,
   "id": "658434f6",
   "metadata": {
    "scrolled": false
   },
   "outputs": [
    {
     "name": "stdout",
     "output_type": "stream",
     "text": [
      "3 23 85 34 17 74 25 52 65\n",
      "10 7 39 42 88 52 14 72 63\n",
      "87 42 18 78 53 45 18 84 53\n"
     ]
    }
   ],
   "source": [
    "#최댓값\n",
    "a=[]\n",
    "m=[]\n",
    "while True:\n",
    "    try:\n",
    "        a.append(list(map(int, input().split(' '))))\n",
    "    except:\n",
    "        break;\n",
    "        \n",
    "for i in range(len(a)):\n",
    "    m.append(max(a[i]))\n",
    "\n",
    "print(max(m))\n",
    "for i in range(len(a)):\n",
    "        for j in range(len(a[i])):\n",
    "            if(a[i][j]==max(m)):\n",
    "                    print(str(i+1)+' '+str(j+1))\n",
    "                    break\n",
    "                    break"
   ]
  },
  {
   "cell_type": "code",
   "execution_count": 6,
   "id": "284fdc34",
   "metadata": {},
   "outputs": [
    {
     "data": {
      "text/plain": [
       "[<map at 0x200be33ce08>,\n",
       " <map at 0x200be34b9c8>,\n",
       " <map at 0x200be33cf08>,\n",
       " <map at 0x200be3452c8>,\n",
       " <map at 0x200be34b448>,\n",
       " <map at 0x200be3069c8>,\n",
       " <map at 0x200be306e48>,\n",
       " <map at 0x200be306cc8>,\n",
       " <map at 0x200be306dc8>,\n",
       " <map at 0x200be32e2c8>,\n",
       " <map at 0x200be32e688>,\n",
       " <map at 0x200be32ed88>,\n",
       " <map at 0x200be32e288>,\n",
       " <map at 0x200be32e208>,\n",
       " <map at 0x200be32e308>,\n",
       " <map at 0x200be32eb88>,\n",
       " <map at 0x200be34d808>]"
      ]
     },
     "execution_count": 6,
     "metadata": {},
     "output_type": "execute_result"
    }
   ],
   "source": []
  },
  {
   "cell_type": "code",
   "execution_count": null,
   "id": "c7b63366",
   "metadata": {},
   "outputs": [],
   "source": []
  }
 ],
 "metadata": {
  "kernelspec": {
   "display_name": "Python 3 (ipykernel)",
   "language": "python",
   "name": "python3"
  },
  "language_info": {
   "codemirror_mode": {
    "name": "ipython",
    "version": 3
   },
   "file_extension": ".py",
   "mimetype": "text/x-python",
   "name": "python",
   "nbconvert_exporter": "python",
   "pygments_lexer": "ipython3",
   "version": "3.7.9"
  }
 },
 "nbformat": 4,
 "nbformat_minor": 5
}
