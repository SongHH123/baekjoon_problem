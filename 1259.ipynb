{
 "cells": [
  {
   "cell_type": "code",
   "execution_count": 70,
   "id": "b4f500ce",
   "metadata": {
    "scrolled": false
   },
   "outputs": [
    {
     "name": "stdout",
     "output_type": "stream",
     "text": [
      "12\n",
      "no\n",
      "12\n",
      "no\n",
      "13\n",
      "no\n",
      "10\n",
      "no\n",
      "010\n",
      "no\n",
      "00000\n"
     ]
    }
   ],
   "source": [
    "import math\n",
    "while(True):\n",
    "    i = str(int(input()))\n",
    "    if(i=='0'):\n",
    "        break\n",
    "    for j in range(math.floor(len(i)/2)):\n",
    "        if(i[j]!=i[-(j+1)]):\n",
    "            j=-1\n",
    "            break\n",
    "\n",
    "    if(j == int(len(i)/2)-1 or len(i)==1):\n",
    "        print('yes')\n",
    "    else:\n",
    "        print('no')"
   ]
  },
  {
   "cell_type": "code",
   "execution_count": 67,
   "id": "cdb2d5a8",
   "metadata": {},
   "outputs": [
    {
     "name": "stdout",
     "output_type": "stream",
     "text": [
      "1\n"
     ]
    }
   ],
   "source": [
    "print(math.floor(len(i)/2))"
   ]
  },
  {
   "cell_type": "code",
   "execution_count": 68,
   "id": "ea7f05f2",
   "metadata": {},
   "outputs": [
    {
     "name": "stdout",
     "output_type": "stream",
     "text": [
      "0 1\n"
     ]
    }
   ],
   "source": [
    "print(j,math.floor(len(i)/2))"
   ]
  },
  {
   "cell_type": "code",
   "execution_count": 69,
   "id": "fd6d99de",
   "metadata": {},
   "outputs": [
    {
     "data": {
      "text/plain": [
       "2"
      ]
     },
     "execution_count": 69,
     "metadata": {},
     "output_type": "execute_result"
    }
   ],
   "source": [
    "len(i)"
   ]
  },
  {
   "cell_type": "code",
   "execution_count": null,
   "id": "5eca2026",
   "metadata": {},
   "outputs": [],
   "source": []
  }
 ],
 "metadata": {
  "kernelspec": {
   "display_name": "Python 3 (ipykernel)",
   "language": "python",
   "name": "python3"
  },
  "language_info": {
   "codemirror_mode": {
    "name": "ipython",
    "version": 3
   },
   "file_extension": ".py",
   "mimetype": "text/x-python",
   "name": "python",
   "nbconvert_exporter": "python",
   "pygments_lexer": "ipython3",
   "version": "3.9.5"
  }
 },
 "nbformat": 4,
 "nbformat_minor": 5
}
